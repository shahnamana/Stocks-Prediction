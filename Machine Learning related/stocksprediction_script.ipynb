{
 "cells": [
  {
   "cell_type": "code",
   "execution_count": null,
   "metadata": {
    "id": "e4QSkLqi_6Vl"
   },
   "outputs": [],
   "source": []
  },
  {
   "cell_type": "code",
   "execution_count": null,
   "metadata": {
    "id": "rvYQNXsm_6dS"
   },
   "outputs": [],
   "source": []
  },
  {
   "cell_type": "code",
   "execution_count": null,
   "metadata": {
    "id": "1e_B9c35_6lT"
   },
   "outputs": [],
   "source": []
  },
  {
   "cell_type": "code",
   "execution_count": null,
   "metadata": {
    "id": "hmZeMk7I_6uV"
   },
   "outputs": [],
   "source": []
  },
  {
   "cell_type": "code",
   "execution_count": null,
   "metadata": {
    "id": "hdDUra0o_62W"
   },
   "outputs": [],
   "source": []
  },
  {
   "cell_type": "markdown",
   "metadata": {
    "id": "F2H8HCHK_69-"
   },
   "source": [
    "Making a time series forecasting with the Help of ARIMA Model. \n",
    "\n",
    "more about ARIMA Model can be found out at: https://www.machinelearningplus.com/time-series/arima-model-time-series-forecasting-python/\n",
    "\n",
    "\n",
    "ARIMA, short for ‘AutoRegressive Integrated Moving Average’, is a forecasting algorithm based on the idea that the information in the past values of the time series can alone be used to predict the future values."
   ]
  },
  {
   "cell_type": "code",
   "execution_count": null,
   "metadata": {
    "id": "tHIjabZzjlYW"
   },
   "outputs": [],
   "source": []
  },
  {
   "cell_type": "code",
   "execution_count": null,
   "metadata": {
    "id": "bPvSMpW7jlui"
   },
   "outputs": [],
   "source": []
  },
  {
   "cell_type": "code",
   "execution_count": null,
   "metadata": {
    "colab": {
     "base_uri": "https://localhost:8080/"
    },
    "id": "JT5VGYYKAF97",
    "outputId": "6320e6b0-b1a2-4db7-b7b2-56ee75600f7b"
   },
   "outputs": [
    {
     "name": "stdout",
     "output_type": "stream",
     "text": [
      "Collecting pmdarima\n",
      "\u001b[?25l  Downloading https://files.pythonhosted.org/packages/e4/a8/bdf15174e35d072e145d16388b1d3bc7605b752610170cb022a290411427/pmdarima-1.8.0-cp37-cp37m-manylinux1_x86_64.whl (1.5MB)\n",
      "\u001b[K     |████████████████████████████████| 1.5MB 5.7MB/s \n",
      "\u001b[?25hRequirement already satisfied: urllib3 in /usr/local/lib/python3.7/dist-packages (from pmdarima) (1.24.3)\n",
      "Collecting Cython<0.29.18,>=0.29\n",
      "\u001b[?25l  Downloading https://files.pythonhosted.org/packages/dc/6c/198da24bf0a1d5b5ee6119e891c5300bb1b0b8904832fac9ff62d4e381c9/Cython-0.29.17-cp37-cp37m-manylinux1_x86_64.whl (2.1MB)\n",
      "\u001b[K     |████████████████████████████████| 2.1MB 24.7MB/s \n",
      "\u001b[?25hCollecting statsmodels!=0.12.0,>=0.11\n",
      "\u001b[?25l  Downloading https://files.pythonhosted.org/packages/da/69/8eef30a6237c54f3c0b524140e2975f4b1eea3489b45eb3339574fc8acee/statsmodels-0.12.2-cp37-cp37m-manylinux1_x86_64.whl (9.5MB)\n",
      "\u001b[K     |████████████████████████████████| 9.5MB 41.9MB/s \n",
      "\u001b[?25hRequirement already satisfied: scikit-learn>=0.22 in /usr/local/lib/python3.7/dist-packages (from pmdarima) (0.22.2.post1)\n",
      "Requirement already satisfied: scipy>=1.3.2 in /usr/local/lib/python3.7/dist-packages (from pmdarima) (1.4.1)\n",
      "Requirement already satisfied: joblib>=0.11 in /usr/local/lib/python3.7/dist-packages (from pmdarima) (1.0.1)\n",
      "Requirement already satisfied: setuptools!=50.0.0,>=38.6.0 in /usr/local/lib/python3.7/dist-packages (from pmdarima) (54.0.0)\n",
      "Requirement already satisfied: numpy>=1.17.3 in /usr/local/lib/python3.7/dist-packages (from pmdarima) (1.19.5)\n",
      "Requirement already satisfied: pandas>=0.19 in /usr/local/lib/python3.7/dist-packages (from pmdarima) (1.1.5)\n",
      "Requirement already satisfied: patsy>=0.5 in /usr/local/lib/python3.7/dist-packages (from statsmodels!=0.12.0,>=0.11->pmdarima) (0.5.1)\n",
      "Requirement already satisfied: pytz>=2017.2 in /usr/local/lib/python3.7/dist-packages (from pandas>=0.19->pmdarima) (2018.9)\n",
      "Requirement already satisfied: python-dateutil>=2.7.3 in /usr/local/lib/python3.7/dist-packages (from pandas>=0.19->pmdarima) (2.8.1)\n",
      "Requirement already satisfied: six in /usr/local/lib/python3.7/dist-packages (from patsy>=0.5->statsmodels!=0.12.0,>=0.11->pmdarima) (1.15.0)\n",
      "Installing collected packages: Cython, statsmodels, pmdarima\n",
      "  Found existing installation: Cython 0.29.22\n",
      "    Uninstalling Cython-0.29.22:\n",
      "      Successfully uninstalled Cython-0.29.22\n",
      "  Found existing installation: statsmodels 0.10.2\n",
      "    Uninstalling statsmodels-0.10.2:\n",
      "      Successfully uninstalled statsmodels-0.10.2\n",
      "Successfully installed Cython-0.29.17 pmdarima-1.8.0 statsmodels-0.12.2\n"
     ]
    }
   ],
   "source": [
    "!pip install pmdarima"
   ]
  },
  {
   "cell_type": "code",
   "execution_count": 1,
   "metadata": {
    "id": "ka9rJI7C_7Gc"
   },
   "outputs": [],
   "source": [
    "import warnings\n",
    "import itertools\n",
    "import numpy as np\n",
    "import matplotlib.pyplot as plt\n",
    "warnings.filterwarnings(\"ignore\")\n",
    "plt.style.use('fivethirtyeight')\n",
    "import pandas as pd\n",
    "import statsmodels.api as sm\n",
    "import matplotlib"
   ]
  },
  {
   "cell_type": "code",
   "execution_count": 2,
   "metadata": {},
   "outputs": [],
   "source": [
    "from nsepy import get_history as gh\n",
    "import datetime as dt"
   ]
  },
  {
   "cell_type": "code",
   "execution_count": 89,
   "metadata": {},
   "outputs": [],
   "source": [
    "#Setting start and end dates and fetching the historical data\n",
    "start = dt.datetime(2013,1,1)\n",
    "end = dt.datetime.now()\n",
    "df = gh(symbol='AUROPHARMA',start=start,end=end)"
   ]
  },
  {
   "cell_type": "code",
   "execution_count": 90,
   "metadata": {},
   "outputs": [
    {
     "data": {
      "text/plain": [
       "Date\n",
       "2013-01-01    193.45\n",
       "2013-01-02    201.70\n",
       "2013-01-03    202.20\n",
       "2013-01-04    201.65\n",
       "2013-01-07    201.60\n",
       "               ...  \n",
       "2021-03-16    840.95\n",
       "2021-03-17    839.30\n",
       "2021-03-18    807.90\n",
       "2021-03-19    822.25\n",
       "2021-03-22    835.25\n",
       "Name: Close, Length: 2035, dtype: float64"
      ]
     },
     "execution_count": 90,
     "metadata": {},
     "output_type": "execute_result"
    }
   ],
   "source": [
    "df = df[['Close']]\n",
    "df.Close"
   ]
  },
  {
   "cell_type": "code",
   "execution_count": 91,
   "metadata": {
    "colab": {
     "base_uri": "https://localhost:8080/",
     "height": 431
    },
    "id": "2plreeZm_-_O",
    "outputId": "5cbfcd5d-f79a-49b3-f991-7f581af9fee8"
   },
   "outputs": [
    {
     "data": {
      "text/plain": [
       "[<matplotlib.lines.Line2D at 0x1511bf6b160>]"
      ]
     },
     "execution_count": 91,
     "metadata": {},
     "output_type": "execute_result"
    },
    {
     "data": {
      "image/png": "[encoded data removed]",
      "text/plain": [
       "<Figure size 432x288 with 1 Axes>"
      ]
     },
     "metadata": {},
     "output_type": "display_data"
    }
   ],
   "source": [
    "# df = pd.read_csv('/content/hdfc_data.csv')\n",
    "# df = df[['Date', 'Close']]\n",
    "# df.index = df['Date']\n",
    "# df.index = pd.to_datetime(df.index)\n",
    "# df.drop(['Date'], axis=1)\n",
    "plt.plot(df.index, df.Close)"
   ]
  },
  {
   "cell_type": "code",
   "execution_count": 92,
   "metadata": {
    "colab": {
     "base_uri": "https://localhost:8080/"
    },
    "id": "UCHy7-Ez__HC",
    "outputId": "6d3c19f5-1f44-45df-9b18-bdb273c7a657"
   },
   "outputs": [
    {
     "name": "stdout",
     "output_type": "stream",
     "text": [
      "1. ADF  -2.31818001066631\n",
      "2. P value:  0.16617157652398978\n",
      "3. Num of Lags :  5\n",
      "4. Num of obs used for adf regression and critical values Calculation:  2029\n",
      "5. Critical Values:  {'1%': -3.433577004601062, '5%': -2.862965528076955, '10%': -2.5675288883320975}\n",
      "\t 1%  :  -3.433577004601062\n",
      "\t 5%  :  -2.862965528076955\n",
      "\t 10%  :  -2.5675288883320975\n"
     ]
    }
   ],
   "source": [
    "\n",
    "from statsmodels.tsa.stattools import adfuller\n",
    "\n",
    "def ad_test(dataset):\n",
    "\tdftest = adfuller(dataset, autolag='AIC')\n",
    "\tprint(\"1. ADF \", dftest[0])\n",
    "\tprint(\"2. P value: \", dftest[1])\n",
    "\tprint(\"3. Num of Lags : \", dftest[2])\n",
    "\tprint(\"4. Num of obs used for adf regression and critical values Calculation: \", dftest[3])\n",
    "\tprint(\"5. Critical Values: \", dftest[4])\n",
    "\n",
    "\tfor key, val in dftest[4].items():\n",
    "\t\tprint(\"\\t\", key, \" : \", val)\n",
    "\n",
    "\n",
    "\n",
    "ad_test(df['Close'])\n",
    "\n"
   ]
  },
  {
   "cell_type": "code",
   "execution_count": 93,
   "metadata": {
    "colab": {
     "base_uri": "https://localhost:8080/",
     "height": 875
    },
    "id": "kQJv2ZsH__Nx",
    "outputId": "2e99a10e-9c19-4085-b428-23761c360bc0"
   },
   "outputs": [
    {
     "name": "stdout",
     "output_type": "stream",
     "text": [
      "Performing stepwise search to minimize aic\n",
      " ARIMA(4,1,2)(0,0,0)[0] intercept   : AIC=18674.661, Time=10.95 sec\n",
      " ARIMA(0,1,0)(0,0,0)[0] intercept   : AIC=18681.614, Time=0.55 sec\n",
      " ARIMA(1,1,0)(0,0,0)[0] intercept   : AIC=18683.474, Time=0.84 sec\n",
      " ARIMA(0,1,1)(0,0,0)[0] intercept   : AIC=18683.461, Time=1.77 sec\n",
      " ARIMA(0,1,0)(0,0,0)[0]             : AIC=18679.970, Time=0.24 sec\n",
      " ARIMA(3,1,2)(0,0,0)[0] intercept   : AIC=18681.297, Time=12.74 sec\n",
      " ARIMA(4,1,1)(0,0,0)[0] intercept   : AIC=18682.153, Time=11.36 sec\n",
      " ARIMA(5,1,2)(0,0,0)[0] intercept   : AIC=18683.705, Time=21.00 sec\n",
      " ARIMA(4,1,3)(0,0,0)[0] intercept   : AIC=18683.811, Time=17.96 sec\n",
      " ARIMA(3,1,1)(0,0,0)[0] intercept   : AIC=18681.380, Time=7.21 sec\n",
      " ARIMA(3,1,3)(0,0,0)[0] intercept   : AIC=18682.243, Time=18.23 sec\n",
      " ARIMA(5,1,1)(0,0,0)[0] intercept   : AIC=18682.604, Time=14.01 sec\n",
      " ARIMA(5,1,3)(0,0,0)[0] intercept   : AIC=18674.450, Time=21.59 sec\n",
      " ARIMA(5,1,4)(0,0,0)[0] intercept   : AIC=18676.693, Time=21.90 sec\n",
      " ARIMA(4,1,4)(0,0,0)[0] intercept   : AIC=18685.755, Time=25.48 sec\n",
      " ARIMA(5,1,3)(0,0,0)[0]             : AIC=18672.753, Time=21.70 sec\n",
      " ARIMA(4,1,3)(0,0,0)[0]             : AIC=18682.288, Time=12.90 sec\n",
      " ARIMA(5,1,2)(0,0,0)[0]             : AIC=18682.120, Time=16.29 sec\n",
      " ARIMA(5,1,4)(0,0,0)[0]             : AIC=18674.869, Time=20.47 sec\n",
      " ARIMA(4,1,2)(0,0,0)[0]             : AIC=inf, Time=13.05 sec\n",
      " ARIMA(4,1,4)(0,0,0)[0]             : AIC=18684.238, Time=17.19 sec\n",
      "\n",
      "Best model:  ARIMA(5,1,3)(0,0,0)[0]          \n",
      "Total fit time: 287.476 seconds\n"
     ]
    },
    {
     "data": {
      "text/html": [
       "<table class=\"simpletable\">\n",
       "<caption>SARIMAX Results</caption>\n",
       "<tr>\n",
       "  <th>Dep. Variable:</th>           <td>y</td>        <th>  No. Observations:  </th>   <td>2035</td>   \n",
       "</tr>\n",
       "<tr>\n",
       "  <th>Model:</th>           <td>SARIMAX(5, 1, 3)</td> <th>  Log Likelihood     </th> <td>-9327.376</td>\n",
       "</tr>\n",
       "<tr>\n",
       "  <th>Date:</th>            <td>Tue, 23 Mar 2021</td> <th>  AIC                </th> <td>18672.753</td>\n",
       "</tr>\n",
       "<tr>\n",
       "  <th>Time:</th>                <td>15:38:39</td>     <th>  BIC                </th> <td>18723.313</td>\n",
       "</tr>\n",
       "<tr>\n",
       "  <th>Sample:</th>                  <td>0</td>        <th>  HQIC               </th> <td>18691.301</td>\n",
       "</tr>\n",
       "<tr>\n",
       "  <th></th>                      <td> - 2035</td>     <th>                     </th>     <td> </td>    \n",
       "</tr>\n",
       "<tr>\n",
       "  <th>Covariance Type:</th>        <td>opg</td>       <th>                     </th>     <td> </td>    \n",
       "</tr>\n",
       "</table>\n",
       "<table class=\"simpletable\">\n",
       "<tr>\n",
       "     <td></td>       <th>coef</th>     <th>std err</th>      <th>z</th>      <th>P>|z|</th>  <th>[0.025</th>    <th>0.975]</th>  \n",
       "</tr>\n",
       "<tr>\n",
       "  <th>ar.L1</th>  <td>   -0.3594</td> <td>    0.185</td> <td>   -1.948</td> <td> 0.051</td> <td>   -0.721</td> <td>    0.002</td>\n",
       "</tr>\n",
       "<tr>\n",
       "  <th>ar.L2</th>  <td>   -0.6450</td> <td>    0.090</td> <td>   -7.206</td> <td> 0.000</td> <td>   -0.820</td> <td>   -0.470</td>\n",
       "</tr>\n",
       "<tr>\n",
       "  <th>ar.L3</th>  <td>   -0.7253</td> <td>    0.175</td> <td>   -4.150</td> <td> 0.000</td> <td>   -1.068</td> <td>   -0.383</td>\n",
       "</tr>\n",
       "<tr>\n",
       "  <th>ar.L4</th>  <td>   -0.0028</td> <td>    0.027</td> <td>   -0.103</td> <td> 0.918</td> <td>   -0.056</td> <td>    0.051</td>\n",
       "</tr>\n",
       "<tr>\n",
       "  <th>ar.L5</th>  <td>   -0.0840</td> <td>    0.023</td> <td>   -3.670</td> <td> 0.000</td> <td>   -0.129</td> <td>   -0.039</td>\n",
       "</tr>\n",
       "<tr>\n",
       "  <th>ma.L1</th>  <td>    0.3690</td> <td>    0.185</td> <td>    1.994</td> <td> 0.046</td> <td>    0.006</td> <td>    0.732</td>\n",
       "</tr>\n",
       "<tr>\n",
       "  <th>ma.L2</th>  <td>    0.6117</td> <td>    0.087</td> <td>    7.059</td> <td> 0.000</td> <td>    0.442</td> <td>    0.782</td>\n",
       "</tr>\n",
       "<tr>\n",
       "  <th>ma.L3</th>  <td>    0.7098</td> <td>    0.180</td> <td>    3.936</td> <td> 0.000</td> <td>    0.356</td> <td>    1.063</td>\n",
       "</tr>\n",
       "<tr>\n",
       "  <th>sigma2</th> <td>  563.2955</td> <td>    2.829</td> <td>  199.142</td> <td> 0.000</td> <td>  557.752</td> <td>  568.839</td>\n",
       "</tr>\n",
       "</table>\n",
       "<table class=\"simpletable\">\n",
       "<tr>\n",
       "  <th>Ljung-Box (L1) (Q):</th>     <td>0.00</td> <th>  Jarque-Bera (JB):  </th> <td>18097853.45</td>\n",
       "</tr>\n",
       "<tr>\n",
       "  <th>Prob(Q):</th>                <td>1.00</td> <th>  Prob(JB):          </th>    <td>0.00</td>    \n",
       "</tr>\n",
       "<tr>\n",
       "  <th>Heteroskedasticity (H):</th> <td>0.28</td> <th>  Skew:              </th>   <td>-14.79</td>   \n",
       "</tr>\n",
       "<tr>\n",
       "  <th>Prob(H) (two-sided):</th>    <td>0.00</td> <th>  Kurtosis:          </th>   <td>464.16</td>   \n",
       "</tr>\n",
       "</table><br/><br/>Warnings:<br/>[1] Covariance matrix calculated using the outer product of gradients (complex-step)."
      ],
      "text/plain": [
       "<class 'statsmodels.iolib.summary.Summary'>\n",
       "\"\"\"\n",
       "                               SARIMAX Results                                \n",
       "==============================================================================\n",
       "Dep. Variable:                      y   No. Observations:                 2035\n",
       "Model:               SARIMAX(5, 1, 3)   Log Likelihood               -9327.376\n",
       "Date:                Tue, 23 Mar 2021   AIC                          18672.753\n",
       "Time:                        15:38:39   BIC                          18723.313\n",
       "Sample:                             0   HQIC                         18691.301\n",
       "                               - 2035                                         \n",
       "Covariance Type:                  opg                                         \n",
       "==============================================================================\n",
       "                 coef    std err          z      P>|z|      [0.025      0.975]\n",
       "------------------------------------------------------------------------------\n",
       "ar.L1         -0.3594      0.185     -1.948      0.051      -0.721       0.002\n",
       "ar.L2         -0.6450      0.090     -7.206      0.000      -0.820      -0.470\n",
       "ar.L3         -0.7253      0.175     -4.150      0.000      -1.068      -0.383\n",
       "ar.L4         -0.0028      0.027     -0.103      0.918      -0.056       0.051\n",
       "ar.L5         -0.0840      0.023     -3.670      0.000      -0.129      -0.039\n",
       "ma.L1          0.3690      0.185      1.994      0.046       0.006       0.732\n",
       "ma.L2          0.6117      0.087      7.059      0.000       0.442       0.782\n",
       "ma.L3          0.7098      0.180      3.936      0.000       0.356       1.063\n",
       "sigma2       563.2955      2.829    199.142      0.000     557.752     568.839\n",
       "===================================================================================\n",
       "Ljung-Box (L1) (Q):                   0.00   Jarque-Bera (JB):          18097853.45\n",
       "Prob(Q):                              1.00   Prob(JB):                         0.00\n",
       "Heteroskedasticity (H):               0.28   Skew:                           -14.79\n",
       "Prob(H) (two-sided):                  0.00   Kurtosis:                       464.16\n",
       "===================================================================================\n",
       "\n",
       "Warnings:\n",
       "[1] Covariance matrix calculated using the outer product of gradients (complex-step).\n",
       "\"\"\""
      ]
     },
     "execution_count": 93,
     "metadata": {},
     "output_type": "execute_result"
    }
   ],
   "source": [
    "\n",
    "from pmdarima import auto_arima\n",
    "import warnings\n",
    "warnings.filterwarnings(\"ignore\")\n",
    "\n",
    "\n",
    "stepwise_fir = auto_arima(df.Close, trace=True, supress_warnings=True, start_p = 4)\n",
    "stepwise_fir.summary()\n"
   ]
  },
  {
   "cell_type": "code",
   "execution_count": 94,
   "metadata": {
    "colab": {
     "base_uri": "https://localhost:8080/"
    },
    "id": "0Gh5qJr1__es",
    "outputId": "b1bb866d-14b2-4a85-c3a2-1005dedfdde2"
   },
   "outputs": [
    {
     "name": "stdout",
     "output_type": "stream",
     "text": [
      "(2035, 1)\n",
      "(2005, 1) (30, 1)\n",
      "                             ARIMA Model Results                              \n",
      "==============================================================================\n",
      "Dep. Variable:                D.Close   No. Observations:                 2004\n",
      "Model:                 ARIMA(5, 1, 3)   Log Likelihood               -9199.082\n",
      "Method:                       css-mle   S.D. of innovations             23.841\n",
      "Date:                Tue, 23 Mar 2021   AIC                          18418.165\n",
      "Time:                        15:38:59   BIC                          18474.194\n",
      "Sample:                             1   HQIC                         18438.736\n",
      "                                                                              \n",
      "=================================================================================\n",
      "                    coef    std err          z      P>|z|      [0.025      0.975]\n",
      "---------------------------------------------------------------------------------\n",
      "const             0.3710      0.508      0.730      0.465      -0.625       1.367\n",
      "ar.L1.D.Close    -0.3635      0.108     -3.356      0.001      -0.576      -0.151\n",
      "ar.L2.D.Close    -0.6423      0.059    -10.894      0.000      -0.758      -0.527\n",
      "ar.L3.D.Close    -0.7304      0.106     -6.922      0.000      -0.937      -0.524\n",
      "ar.L4.D.Close    -0.0028      0.025     -0.113      0.910      -0.052       0.046\n",
      "ar.L5.D.Close    -0.0848      0.023     -3.674      0.000      -0.130      -0.040\n",
      "ma.L1.D.Close     0.3719      0.107      3.476      0.001       0.162       0.582\n",
      "ma.L2.D.Close     0.6086      0.054     11.196      0.000       0.502       0.715\n",
      "ma.L3.D.Close     0.7143      0.104      6.861      0.000       0.510       0.918\n",
      "                                    Roots                                    \n",
      "=============================================================================\n",
      "                  Real          Imaginary           Modulus         Frequency\n",
      "-----------------------------------------------------------------------------\n",
      "AR.1           -1.2075           -0.0000j            1.2075           -0.5000\n",
      "AR.2            0.2153           -1.0455j            1.0674           -0.2177\n",
      "AR.3            0.2153           +1.0455j            1.0674            0.2177\n",
      "AR.4            0.3718           -2.9039j            2.9276           -0.2297\n",
      "AR.5            0.3718           +2.9039j            2.9276            0.2297\n",
      "MA.1            0.2189           -1.0186j            1.0418           -0.2163\n",
      "MA.2            0.2189           +1.0186j            1.0418            0.2163\n",
      "MA.3           -1.2898           -0.0000j            1.2898           -0.5000\n",
      "-----------------------------------------------------------------------------\n"
     ]
    }
   ],
   "source": [
    "\n",
    "\n",
    "\n",
    "from statsmodels.tsa.arima_model import ARIMA\n",
    "\n",
    "\n",
    "print(df.shape)\n",
    "train=df.iloc[:-30]\n",
    "test = df.iloc[-30:]\n",
    "print(train.shape, test.shape)\n",
    "model = ARIMA(train.Close, order=(5,1,3))\n",
    "model = model.fit()\n",
    "print(model.summary())\n"
   ]
  },
  {
   "cell_type": "code",
   "execution_count": 98,
   "metadata": {
    "colab": {
     "base_uri": "https://localhost:8080/",
     "height": 846
    },
    "id": "AvrsY2-___mW",
    "outputId": "ee9507e4-406b-41cf-a297-35344709afa0"
   },
   "outputs": [
    {
     "data": {
      "text/plain": [
       "<AxesSubplot:>"
      ]
     },
     "execution_count": 98,
     "metadata": {},
     "output_type": "execute_result"
    },
    {
     "data": {
      "image/png": "[encoded data removed]",
      "text/plain": [
       "<Figure size 432x288 with 1 Axes>"
      ]
     },
     "metadata": {},
     "output_type": "display_data"
    }
   ],
   "source": [
    "\n",
    "start = len(train)\n",
    "end = len(train)+ len(test) -1\n",
    "pred = model.predict(start=start, end=end, typ=\"levels\")\n",
    "# print(pred)\n",
    "# pred.index = df.index[start:end+1]\n",
    "pred.plot(legend=True)\n",
    "# print(test)\n",
    "# test['Close'].plot()\n",
    "# plt.show()\n"
   ]
  },
  {
   "cell_type": "code",
   "execution_count": 96,
   "metadata": {
    "colab": {
     "base_uri": "https://localhost:8080/"
    },
    "id": "1PL512MWAAvS",
    "outputId": "a0b37981-a5f4-4941-ab63-cdae585c5ef4"
   },
   "outputs": [
    {
     "name": "stdout",
     "output_type": "stream",
     "text": [
      "880.3433333333334\n",
      "The rmse is  78.26767487651958\n"
     ]
    }
   ],
   "source": [
    "\n",
    "print(test.Close.mean())\n",
    "from sklearn.metrics import mean_squared_error\n",
    "from math import sqrt\n",
    "rmse=sqrt(mean_squared_error(pred, test.Close))\n",
    "print(\"The rmse is \", rmse)\n"
   ]
  },
  {
   "cell_type": "code",
   "execution_count": 99,
   "metadata": {
    "colab": {
     "base_uri": "https://localhost:8080/"
    },
    "id": "dMSzBWPUCfH4",
    "outputId": "f575fc25-4964-4952-dccb-62f55322d90a"
   },
   "outputs": [
    {
     "name": "stdout",
     "output_type": "stream",
     "text": [
      "<class 'pandas.core.series.Series'>\n",
      "             Close\n",
      "Date              \n",
      "2021-03-16  840.95\n",
      "2021-03-17  839.30\n",
      "2021-03-18  807.90\n",
      "2021-03-19  822.25\n",
      "2021-03-22  835.25\n"
     ]
    }
   ],
   "source": [
    "\n",
    "print(type(df.Close))\n",
    "model2 = ARIMA(df.Close, order=(0,1,0))\n",
    "model2 = model2.fit()\n",
    "print(df.tail())\n",
    "\n"
   ]
  },
  {
   "cell_type": "code",
   "execution_count": 107,
   "metadata": {
    "colab": {
     "base_uri": "https://localhost:8080/",
     "height": 473
    },
    "id": "Cho9wfH4AA4S",
    "outputId": "a3226547-6eb7-4c6a-d2d4-9f307a387206"
   },
   "outputs": [
    {
     "name": "stdout",
     "output_type": "stream",
     "text": [
      "DatetimeIndex(['2021-03-23 15:42:37.010431', '2021-03-24 15:42:37.010431',\n",
      "               '2021-03-25 15:42:37.010431', '2021-03-26 15:42:37.010431',\n",
      "               '2021-03-27 15:42:37.010431', '2021-03-28 15:42:37.010431',\n",
      "               '2021-03-29 15:42:37.010431', '2021-03-30 15:42:37.010431',\n",
      "               '2021-03-31 15:42:37.010431', '2021-04-01 15:42:37.010431',\n",
      "               '2021-04-02 15:42:37.010431'],\n",
      "              dtype='datetime64[ns]', freq='D')\n",
      "2034    835.565536\n",
      "2035    835.881072\n",
      "2036    836.196608\n",
      "2037    836.512144\n",
      "2038    836.827679\n",
      "2039    837.143215\n",
      "2040    837.458751\n",
      "2041    837.774287\n",
      "2042    838.089823\n",
      "2043    838.405359\n",
      "2044    838.720895\n",
      "Name: ARIMA PREDICTIONS, dtype: float64\n"
     ]
    },
    {
     "data": {
      "text/plain": [
       "[<matplotlib.lines.Line2D at 0x15121c604e0>]"
      ]
     },
     "execution_count": 107,
     "metadata": {},
     "output_type": "execute_result"
    },
    {
     "data": {
      "image/png": "[encoded data removed]",
      "text/plain": [
       "<Figure size 864x360 with 1 Axes>"
      ]
     },
     "metadata": {},
     "output_type": "display_data"
    }
   ],
   "source": [
    "\n",
    "\n",
    "import datetime as dt\n",
    "# Future dates\n",
    "index_future_dates = pd.date_range(start = dt.datetime.now() , end=dt.datetime.now() + dt.timedelta(days=10))\n",
    "\n",
    "print(index_future_dates)\n",
    "pred = model2.predict(start=len(df), end=len(df)+10, typ='levels').rename('ARIMA PREDICTIONS')\n",
    "print(pred)\n",
    "\n",
    "pred.index = index_future_dates\n",
    "pred.plot(figsize=(12,5), legend =True)\n",
    "plt.plot(pred)"
   ]
  },
  {
   "cell_type": "code",
   "execution_count": 101,
   "metadata": {
    "id": "V9CAk58tCulz"
   },
   "outputs": [],
   "source": [
    "model2.save('AUROPHARMA_model.pkl')"
   ]
  },
  {
   "cell_type": "code",
   "execution_count": 55,
   "metadata": {
    "id": "B26Zq3JiDY2E"
   },
   "outputs": [],
   "source": [
    "from statsmodels.tsa.arima_model import ARIMAResults"
   ]
  },
  {
   "cell_type": "code",
   "execution_count": 88,
   "metadata": {
    "colab": {
     "base_uri": "https://localhost:8080/",
     "height": 218
    },
    "id": "l9tdqGdFABBQ",
    "outputId": "b8a1c644-8ad9-41b0-c848-726684195303"
   },
   "outputs": [
    {
     "data": {
      "text/plain": [
       "<AxesSubplot:>"
      ]
     },
     "execution_count": 88,
     "metadata": {},
     "output_type": "execute_result"
    },
    {
     "data": {
      "image/png": "[encoded data removed]",
      "text/plain": [
       "<Figure size 2160x360 with 1 Axes>"
      ]
     },
     "metadata": {},
     "output_type": "display_data"
    }
   ],
   "source": [
    "loaded = ARIMAResults.load('AUROPHARMA_model.pkl')\n",
    "index_future_dates = pd.date_range(start = dt.datetime.now() , end=dt.datetime.now() + dt.timedelta(days=20))\n",
    "\n",
    "pred = loaded.predict(start=len(df), end=len(df)+20, typ='levels').rename('ARIMA PREDICTIONS')\n",
    "\n",
    "pred.index = index_future_dates\n",
    "pred.plot(figsize=(30,5), legend =True)"
   ]
  }
 ],
 "metadata": {
  "colab": {
   "collapsed_sections": [],
   "name": "stocksprediction_script.ipynb",
   "provenance": []
  },
  "kernelspec": {
   "display_name": "Python 3",
   "language": "python",
   "name": "python3"
  },
  "language_info": {
   "codemirror_mode": {
    "name": "ipython",
    "version": 3
   },
   "file_extension": ".py",
   "mimetype": "text/x-python",
   "name": "python",
   "nbconvert_exporter": "python",
   "pygments_lexer": "ipython3",
   "version": "3.6.12"
  }
 },
 "nbformat": 4,
 "nbformat_minor": 1
}
