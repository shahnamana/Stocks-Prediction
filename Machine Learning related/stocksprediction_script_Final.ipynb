{
  "nbformat": 4,
  "nbformat_minor": 0,
  "metadata": {
    "colab": {
      "name": "stocksprediction_script(1).ipynb",
      "provenance": [],
      "collapsed_sections": []
    },
    "kernelspec": {
      "display_name": "Python 3",
      "language": "python",
      "name": "python3"
    },
    "language_info": {
      "codemirror_mode": {
        "name": "ipython",
        "version": 3
      },
      "file_extension": ".py",
      "mimetype": "text/x-python",
      "name": "python",
      "nbconvert_exporter": "python",
      "pygments_lexer": "ipython3",
      "version": "3.6.12"
    }
  },
  "cells": [
    {
      "cell_type": "code",
      "metadata": {
        "id": "rvYQNXsm_6dS"
      },
      "source": [
        ""
      ],
      "execution_count": null,
      "outputs": []
    },
    {
      "cell_type": "code",
      "metadata": {
        "id": "1e_B9c35_6lT"
      },
      "source": [
        ""
      ],
      "execution_count": null,
      "outputs": []
    },
    {
      "cell_type": "code",
      "metadata": {
        "id": "hmZeMk7I_6uV"
      },
      "source": [
        ""
      ],
      "execution_count": null,
      "outputs": []
    },
    {
      "cell_type": "code",
      "metadata": {
        "id": "hdDUra0o_62W"
      },
      "source": [
        ""
      ],
      "execution_count": null,
      "outputs": []
    },
    {
      "cell_type": "markdown",
      "metadata": {
        "id": "F2H8HCHK_69-"
      },
      "source": [
        "Making a time series forecasting with the Help of ARIMA Model. \n",
        "\n",
        "more about ARIMA Model can be found out at: https://www.machinelearningplus.com/time-series/arima-model-time-series-forecasting-python/\n",
        "\n",
        "\n",
        "ARIMA, short for ‘AutoRegressive Integrated Moving Average’, is a forecasting algorithm based on the idea that the information in the past values of the time series can alone be used to predict the future values."
      ]
    },
    {
      "cell_type": "code",
      "metadata": {
        "id": "tHIjabZzjlYW"
      },
      "source": [
        ""
      ],
      "execution_count": null,
      "outputs": []
    },
    {
      "cell_type": "code",
      "metadata": {
        "id": "bPvSMpW7jlui"
      },
      "source": [
        ""
      ],
      "execution_count": null,
      "outputs": []
    },
    {
      "cell_type": "code",
      "metadata": {
        "colab": {
          "base_uri": "https://localhost:8080/"
        },
        "id": "JT5VGYYKAF97",
        "outputId": "8fca2826-d8cc-477f-fa42-1c2500d552fb"
      },
      "source": [
        "!pip install pmdarima\n",
        "# !pip install nsepy"
      ],
      "execution_count": 1,
      "outputs": [
        {
          "output_type": "stream",
          "text": [
            "Requirement already satisfied: pmdarima in /usr/local/lib/python3.7/dist-packages (1.8.2)\n",
            "Requirement already satisfied: statsmodels!=0.12.0,>=0.11 in /usr/local/lib/python3.7/dist-packages (from pmdarima) (0.12.2)\n",
            "Requirement already satisfied: Cython!=0.29.18,>=0.29 in /usr/local/lib/python3.7/dist-packages (from pmdarima) (0.29.22)\n",
            "Requirement already satisfied: setuptools!=50.0.0,>=38.6.0 in /usr/local/lib/python3.7/dist-packages (from pmdarima) (56.0.0)\n",
            "Requirement already satisfied: urllib3 in /usr/local/lib/python3.7/dist-packages (from pmdarima) (1.24.3)\n",
            "Requirement already satisfied: joblib>=0.11 in /usr/local/lib/python3.7/dist-packages (from pmdarima) (1.0.1)\n",
            "Requirement already satisfied: scipy>=1.3.2 in /usr/local/lib/python3.7/dist-packages (from pmdarima) (1.4.1)\n",
            "Requirement already satisfied: numpy~=1.19.0 in /usr/local/lib/python3.7/dist-packages (from pmdarima) (1.19.5)\n",
            "Requirement already satisfied: pandas>=0.19 in /usr/local/lib/python3.7/dist-packages (from pmdarima) (1.1.5)\n",
            "Requirement already satisfied: scikit-learn>=0.22 in /usr/local/lib/python3.7/dist-packages (from pmdarima) (0.22.2.post1)\n",
            "Requirement already satisfied: patsy>=0.5 in /usr/local/lib/python3.7/dist-packages (from statsmodels!=0.12.0,>=0.11->pmdarima) (0.5.1)\n",
            "Requirement already satisfied: python-dateutil>=2.7.3 in /usr/local/lib/python3.7/dist-packages (from pandas>=0.19->pmdarima) (2.8.1)\n",
            "Requirement already satisfied: pytz>=2017.2 in /usr/local/lib/python3.7/dist-packages (from pandas>=0.19->pmdarima) (2018.9)\n",
            "Requirement already satisfied: six in /usr/local/lib/python3.7/dist-packages (from patsy>=0.5->statsmodels!=0.12.0,>=0.11->pmdarima) (1.15.0)\n"
          ],
          "name": "stdout"
        }
      ]
    },
    {
      "cell_type": "code",
      "metadata": {
        "id": "ka9rJI7C_7Gc"
      },
      "source": [
        "import warnings\n",
        "import itertools\n",
        "import numpy as np\n",
        "import matplotlib.pyplot as plt\n",
        "warnings.filterwarnings(\"ignore\")\n",
        "plt.style.use('fivethirtyeight')\n",
        "import pandas as pd\n",
        "import statsmodels.api as sm\n",
        "import matplotlib\n",
        "# from nsepy import get_history\n",
        "import datetime"
      ],
      "execution_count": 2,
      "outputs": []
    },
    {
      "cell_type": "code",
      "metadata": {
        "colab": {
          "base_uri": "https://localhost:8080/"
        },
        "id": "NTwd6dRZlRtC",
        "outputId": "3d9926c9-6857-45fb-b39a-07b8b33800b0"
      },
      "source": [
        "from google.colab import drive\n",
        "drive.mount('/content/drive')"
      ],
      "execution_count": 3,
      "outputs": [
        {
          "output_type": "stream",
          "text": [
            "Mounted at /content/drive\n"
          ],
          "name": "stdout"
        }
      ]
    },
    {
      "cell_type": "code",
      "metadata": {
        "id": "2plreeZm_-_O"
      },
      "source": [
        "df = pd.read_csv('/content/drive/MyDrive/Mini Project Sem 6/HDFC_data.csv')\n",
        "df = df[['Date', 'Close']]\n",
        "df.index = df['Date']\n",
        "df.index = pd.to_datetime(df.index)\n",
        "# df.drop(['Date'])\n",
        "df = df[['Close']]\n",
        "# type(df.index[-1])\n",
        "# datetime.datetime.now() - df.index[-1]"
      ],
      "execution_count": 103,
      "outputs": []
    },
    {
      "cell_type": "code",
      "metadata": {
        "colab": {
          "base_uri": "https://localhost:8080/",
          "height": 322
        },
        "id": "o586ksZHw0M5",
        "outputId": "bf50d645-7454-4e8d-9e44-3edf531d5205"
      },
      "source": [
        "# plt.plot(df.Close)\n",
        "plt.xlabel('Date')\n",
        "plt.ylabel('Stock Price')\n",
        "plt.plot(df)"
      ],
      "execution_count": 104,
      "outputs": [
        {
          "output_type": "execute_result",
          "data": {
            "text/plain": [
              "[<matplotlib.lines.Line2D at 0x7fc627508710>]"
            ]
          },
          "metadata": {
            "tags": []
          },
          "execution_count": 104
        },
        {
          "output_type": "display_data",
          "data": {
            "image/png": "[encoded data removed]",
            "text/plain": [
              "<Figure size 432x288 with 1 Axes>"
            ]
          },
          "metadata": {
            "tags": []
          }
        }
      ]
    },
    {
      "cell_type": "code",
      "metadata": {
        "colab": {
          "base_uri": "https://localhost:8080/",
          "height": 946
        },
        "id": "kQJv2ZsH__Nx",
        "outputId": "20cf7073-e448-482e-9c0e-3ed16ce753c5"
      },
      "source": [
        "\n",
        "from pmdarima import auto_arima\n",
        "import warnings\n",
        "warnings.filterwarnings(\"ignore\")\n",
        "\n",
        "\n",
        "stepwise_fir = auto_arima(df.Close, trace=True, supress_warnings=True)\n",
        "stepwise_fir.summary()\n"
      ],
      "execution_count": 105,
      "outputs": [
        {
          "output_type": "stream",
          "text": [
            "Performing stepwise search to minimize aic\n",
            " ARIMA(2,1,2)(0,0,0)[0] intercept   : AIC=19628.590, Time=2.95 sec\n",
            " ARIMA(0,1,0)(0,0,0)[0] intercept   : AIC=19653.349, Time=0.08 sec\n",
            " ARIMA(1,1,0)(0,0,0)[0] intercept   : AIC=19655.349, Time=0.09 sec\n",
            " ARIMA(0,1,1)(0,0,0)[0] intercept   : AIC=19655.348, Time=0.44 sec\n",
            " ARIMA(0,1,0)(0,0,0)[0]             : AIC=19652.803, Time=0.07 sec\n",
            " ARIMA(1,1,2)(0,0,0)[0] intercept   : AIC=19644.186, Time=0.90 sec\n",
            " ARIMA(2,1,1)(0,0,0)[0] intercept   : AIC=19642.977, Time=1.44 sec\n",
            " ARIMA(3,1,2)(0,0,0)[0] intercept   : AIC=19621.976, Time=4.48 sec\n",
            " ARIMA(3,1,1)(0,0,0)[0] intercept   : AIC=19637.262, Time=1.29 sec\n",
            " ARIMA(4,1,2)(0,0,0)[0] intercept   : AIC=19607.397, Time=5.31 sec\n",
            " ARIMA(4,1,1)(0,0,0)[0] intercept   : AIC=19629.183, Time=3.28 sec\n",
            " ARIMA(5,1,2)(0,0,0)[0] intercept   : AIC=19603.710, Time=6.38 sec\n",
            " ARIMA(5,1,1)(0,0,0)[0] intercept   : AIC=19619.147, Time=3.51 sec\n",
            " ARIMA(5,1,3)(0,0,0)[0] intercept   : AIC=19607.966, Time=7.37 sec\n",
            " ARIMA(4,1,3)(0,0,0)[0] intercept   : AIC=19610.176, Time=6.17 sec\n",
            " ARIMA(5,1,2)(0,0,0)[0]             : AIC=19603.149, Time=2.84 sec\n",
            " ARIMA(4,1,2)(0,0,0)[0]             : AIC=19606.857, Time=2.33 sec\n",
            " ARIMA(5,1,1)(0,0,0)[0]             : AIC=19618.931, Time=1.09 sec\n",
            " ARIMA(5,1,3)(0,0,0)[0]             : AIC=19606.494, Time=3.12 sec\n",
            " ARIMA(4,1,1)(0,0,0)[0]             : AIC=19629.299, Time=0.78 sec\n",
            " ARIMA(4,1,3)(0,0,0)[0]             : AIC=19609.633, Time=3.14 sec\n",
            "\n",
            "Best model:  ARIMA(5,1,2)(0,0,0)[0]          \n",
            "Total fit time: 57.107 seconds\n"
          ],
          "name": "stdout"
        },
        {
          "output_type": "execute_result",
          "data": {
            "text/html": [
              "<table class=\"simpletable\">\n",
              "<caption>SARIMAX Results</caption>\n",
              "<tr>\n",
              "  <th>Dep. Variable:</th>           <td>y</td>        <th>  No. Observations:  </th>   <td>2038</td>   \n",
              "</tr>\n",
              "<tr>\n",
              "  <th>Model:</th>           <td>SARIMAX(5, 1, 2)</td> <th>  Log Likelihood     </th> <td>-9793.574</td>\n",
              "</tr>\n",
              "<tr>\n",
              "  <th>Date:</th>            <td>Fri, 23 Apr 2021</td> <th>  AIC                </th> <td>19603.149</td>\n",
              "</tr>\n",
              "<tr>\n",
              "  <th>Time:</th>                <td>19:25:16</td>     <th>  BIC                </th> <td>19648.103</td>\n",
              "</tr>\n",
              "<tr>\n",
              "  <th>Sample:</th>                  <td>0</td>        <th>  HQIC               </th> <td>19619.640</td>\n",
              "</tr>\n",
              "<tr>\n",
              "  <th></th>                      <td> - 2038</td>     <th>                     </th>     <td> </td>    \n",
              "</tr>\n",
              "<tr>\n",
              "  <th>Covariance Type:</th>        <td>opg</td>       <th>                     </th>     <td> </td>    \n",
              "</tr>\n",
              "</table>\n",
              "<table class=\"simpletable\">\n",
              "<tr>\n",
              "     <td></td>       <th>coef</th>     <th>std err</th>      <th>z</th>      <th>P>|z|</th>  <th>[0.025</th>    <th>0.975]</th>  \n",
              "</tr>\n",
              "<tr>\n",
              "  <th>ar.L1</th>  <td>   -1.4722</td> <td>    0.033</td> <td>  -44.771</td> <td> 0.000</td> <td>   -1.537</td> <td>   -1.408</td>\n",
              "</tr>\n",
              "<tr>\n",
              "  <th>ar.L2</th>  <td>   -0.8959</td> <td>    0.037</td> <td>  -24.193</td> <td> 0.000</td> <td>   -0.968</td> <td>   -0.823</td>\n",
              "</tr>\n",
              "<tr>\n",
              "  <th>ar.L3</th>  <td>   -0.1765</td> <td>    0.026</td> <td>   -6.917</td> <td> 0.000</td> <td>   -0.227</td> <td>   -0.127</td>\n",
              "</tr>\n",
              "<tr>\n",
              "  <th>ar.L4</th>  <td>   -0.2230</td> <td>    0.021</td> <td>  -10.527</td> <td> 0.000</td> <td>   -0.264</td> <td>   -0.181</td>\n",
              "</tr>\n",
              "<tr>\n",
              "  <th>ar.L5</th>  <td>   -0.0725</td> <td>    0.014</td> <td>   -5.183</td> <td> 0.000</td> <td>   -0.100</td> <td>   -0.045</td>\n",
              "</tr>\n",
              "<tr>\n",
              "  <th>ma.L1</th>  <td>    1.4807</td> <td>    0.030</td> <td>   48.989</td> <td> 0.000</td> <td>    1.421</td> <td>    1.540</td>\n",
              "</tr>\n",
              "<tr>\n",
              "  <th>ma.L2</th>  <td>    0.8482</td> <td>    0.027</td> <td>   31.384</td> <td> 0.000</td> <td>    0.795</td> <td>    0.901</td>\n",
              "</tr>\n",
              "<tr>\n",
              "  <th>sigma2</th> <td>  878.0904</td> <td>   13.472</td> <td>   65.177</td> <td> 0.000</td> <td>  851.685</td> <td>  904.496</td>\n",
              "</tr>\n",
              "</table>\n",
              "<table class=\"simpletable\">\n",
              "<tr>\n",
              "  <th>Ljung-Box (L1) (Q):</th>     <td>0.00</td> <th>  Jarque-Bera (JB):  </th> <td>5971.17</td>\n",
              "</tr>\n",
              "<tr>\n",
              "  <th>Prob(Q):</th>                <td>0.96</td> <th>  Prob(JB):          </th>  <td>0.00</td>  \n",
              "</tr>\n",
              "<tr>\n",
              "  <th>Heteroskedasticity (H):</th> <td>5.30</td> <th>  Skew:              </th>  <td>-0.26</td> \n",
              "</tr>\n",
              "<tr>\n",
              "  <th>Prob(H) (two-sided):</th>    <td>0.00</td> <th>  Kurtosis:          </th>  <td>11.37</td> \n",
              "</tr>\n",
              "</table><br/><br/>Warnings:<br/>[1] Covariance matrix calculated using the outer product of gradients (complex-step)."
            ],
            "text/plain": [
              "<class 'statsmodels.iolib.summary.Summary'>\n",
              "\"\"\"\n",
              "                               SARIMAX Results                                \n",
              "==============================================================================\n",
              "Dep. Variable:                      y   No. Observations:                 2038\n",
              "Model:               SARIMAX(5, 1, 2)   Log Likelihood               -9793.574\n",
              "Date:                Fri, 23 Apr 2021   AIC                          19603.149\n",
              "Time:                        19:25:16   BIC                          19648.103\n",
              "Sample:                             0   HQIC                         19619.640\n",
              "                               - 2038                                         \n",
              "Covariance Type:                  opg                                         \n",
              "==============================================================================\n",
              "                 coef    std err          z      P>|z|      [0.025      0.975]\n",
              "------------------------------------------------------------------------------\n",
              "ar.L1         -1.4722      0.033    -44.771      0.000      -1.537      -1.408\n",
              "ar.L2         -0.8959      0.037    -24.193      0.000      -0.968      -0.823\n",
              "ar.L3         -0.1765      0.026     -6.917      0.000      -0.227      -0.127\n",
              "ar.L4         -0.2230      0.021    -10.527      0.000      -0.264      -0.181\n",
              "ar.L5         -0.0725      0.014     -5.183      0.000      -0.100      -0.045\n",
              "ma.L1          1.4807      0.030     48.989      0.000       1.421       1.540\n",
              "ma.L2          0.8482      0.027     31.384      0.000       0.795       0.901\n",
              "sigma2       878.0904     13.472     65.177      0.000     851.685     904.496\n",
              "===================================================================================\n",
              "Ljung-Box (L1) (Q):                   0.00   Jarque-Bera (JB):              5971.17\n",
              "Prob(Q):                              0.96   Prob(JB):                         0.00\n",
              "Heteroskedasticity (H):               5.30   Skew:                            -0.26\n",
              "Prob(H) (two-sided):                  0.00   Kurtosis:                        11.37\n",
              "===================================================================================\n",
              "\n",
              "Warnings:\n",
              "[1] Covariance matrix calculated using the outer product of gradients (complex-step).\n",
              "\"\"\""
            ]
          },
          "metadata": {
            "tags": []
          },
          "execution_count": 105
        }
      ]
    },
    {
      "cell_type": "code",
      "metadata": {
        "colab": {
          "base_uri": "https://localhost:8080/"
        },
        "id": "0Gh5qJr1__es",
        "outputId": "31e8ba0e-2f83-45e8-cba3-bfe2eb22132e"
      },
      "source": [
        "# from statsmodels.tsa.arima_model import ARIMA\n",
        "\n",
        "\n",
        "# print(df.shape)\n",
        "# train=df.iloc[:-100]\n",
        "# test = df.iloc[-100:]\n",
        "# print(train.shape, test.shape)\n",
        "# model = ARIMA(train.Close, order=(5,1,2))\n",
        "# model = model.fit()\n",
        "# print(model.summary())\n"
      ],
      "execution_count": 108,
      "outputs": [
        {
          "output_type": "stream",
          "text": [
            "(2038, 1)\n",
            "(1938, 1) (100, 1)\n",
            "                             ARIMA Model Results                              \n",
            "==============================================================================\n",
            "Dep. Variable:                D.Close   No. Observations:                 1937\n",
            "Model:                 ARIMA(5, 1, 2)   Log Likelihood               -9199.176\n",
            "Method:                       css-mle   S.D. of innovations             27.944\n",
            "Date:                Fri, 23 Apr 2021   AIC                          18416.352\n",
            "Time:                        19:25:35   BIC                          18466.472\n",
            "Sample:                             1   HQIC                         18434.785\n",
            "                                                                              \n",
            "=================================================================================\n",
            "                    coef    std err          z      P>|z|      [0.025      0.975]\n",
            "---------------------------------------------------------------------------------\n",
            "const             0.5661      0.571      0.991      0.322      -0.554       1.686\n",
            "ar.L1.D.Close    -0.8766      0.271     -3.239      0.001      -1.407      -0.346\n",
            "ar.L2.D.Close    -0.4897      0.160     -3.065      0.002      -0.803      -0.177\n",
            "ar.L3.D.Close    -0.1363      0.040     -3.426      0.001      -0.214      -0.058\n",
            "ar.L4.D.Close    -0.1058      0.055     -1.921      0.055      -0.214       0.002\n",
            "ar.L5.D.Close     0.0721      0.052      1.394      0.163      -0.029       0.174\n",
            "ma.L1.D.Close     0.8625      0.272      3.166      0.002       0.329       1.396\n",
            "ma.L2.D.Close     0.4196      0.150      2.800      0.005       0.126       0.713\n",
            "                                    Roots                                    \n",
            "=============================================================================\n",
            "                  Real          Imaginary           Modulus         Frequency\n",
            "-----------------------------------------------------------------------------\n",
            "AR.1           -1.0204           -0.7303j            1.2548           -0.4011\n",
            "AR.2           -1.0204           +0.7303j            1.2548            0.4011\n",
            "AR.3            0.1483           -1.6493j            1.6559           -0.2357\n",
            "AR.4            0.1483           +1.6493j            1.6559            0.2357\n",
            "AR.5            3.2117           -0.0000j            3.2117           -0.0000\n",
            "MA.1           -1.0278           -1.1520j            1.5439           -0.3659\n",
            "MA.2           -1.0278           +1.1520j            1.5439            0.3659\n",
            "-----------------------------------------------------------------------------\n"
          ],
          "name": "stdout"
        }
      ]
    },
    {
      "cell_type": "code",
      "metadata": {
        "colab": {
          "base_uri": "https://localhost:8080/"
        },
        "id": "5ZKOUGnxVWYc",
        "outputId": "a1101135-bf13-4d04-9a1d-a1624c759d77"
      },
      "source": [
        "from statsmodels.tsa.stattools import adfuller\n",
        "def ad_test(dataset):\n",
        "     dftest = adfuller(dataset, autolag = 'AIC')\n",
        "     print(\"1. ADF : \",dftest[0])\n",
        "     print(\"2. P-Value : \", dftest[1])\n",
        "     print(\"3. Num Of Lags : \", dftest[2])\n",
        "     print(\"4. Num Of Observations Used For ADF Regression:\",      dftest[3])\n",
        "     print(\"5. Critical Values :\")\n",
        "     for key, val in dftest[4].items():\n",
        "         print(\"\\t\",key, \": \", val)\n",
        "ad_test(df['Close'])"
      ],
      "execution_count": null,
      "outputs": [
        {
          "output_type": "stream",
          "text": [
            "1. ADF :  -0.8307616080478948\n",
            "2. P-Value :  0.8099186836427368\n",
            "3. Num Of Lags :  12\n",
            "4. Num Of Observations Used For ADF Regression: 2025\n",
            "5. Critical Values :\n",
            "\t 1% :  -3.433583387038847\n",
            "\t 5% :  -2.862968345989414\n",
            "\t 10% :  -2.5675303887212313\n"
          ],
          "name": "stdout"
        }
      ]
    },
    {
      "cell_type": "code",
      "metadata": {
        "colab": {
          "base_uri": "https://localhost:8080/",
          "height": 677
        },
        "id": "un6aG3IoNczJ",
        "outputId": "818f9863-6b28-44ac-fed5-a47ac370989e"
      },
      "source": [
        "print(df.shape)\n",
        "train=df.iloc[:-100]\n",
        "test = df.iloc[-100:]\n",
        "print(type(df.Close))\n",
        "model2 = ARIMA(df, order=(5,1,2))\n",
        "model2 = model2.fit()\n",
        "print(df.tail())\n",
        "model2.summary()\n",
        "\n"
      ],
      "execution_count": 118,
      "outputs": [
        {
          "output_type": "stream",
          "text": [
            "(2038, 1)\n",
            "<class 'pandas.core.series.Series'>\n",
            "              Close\n",
            "Date               \n",
            "2021-03-19  2531.65\n",
            "2021-03-22  2531.85\n",
            "2021-03-23  2509.90\n",
            "2021-03-24  2465.75\n",
            "2021-03-25  2470.75\n"
          ],
          "name": "stdout"
        },
        {
          "output_type": "execute_result",
          "data": {
            "text/html": [
              "<table class=\"simpletable\">\n",
              "<caption>ARIMA Model Results</caption>\n",
              "<tr>\n",
              "  <th>Dep. Variable:</th>      <td>D.Close</td>     <th>  No. Observations:  </th>   <td>2037</td>   \n",
              "</tr>\n",
              "<tr>\n",
              "  <th>Model:</th>          <td>ARIMA(5, 1, 2)</td>  <th>  Log Likelihood     </th> <td>-9792.567</td>\n",
              "</tr>\n",
              "<tr>\n",
              "  <th>Method:</th>             <td>css-mle</td>     <th>  S.D. of innovations</th>  <td>29.617</td>  \n",
              "</tr>\n",
              "<tr>\n",
              "  <th>Date:</th>          <td>Fri, 23 Apr 2021</td> <th>  AIC                </th> <td>19603.135</td>\n",
              "</tr>\n",
              "<tr>\n",
              "  <th>Time:</th>              <td>19:30:13</td>     <th>  BIC                </th> <td>19653.708</td>\n",
              "</tr>\n",
              "<tr>\n",
              "  <th>Sample:</th>                <td>1</td>        <th>  HQIC               </th> <td>19621.687</td>\n",
              "</tr>\n",
              "<tr>\n",
              "  <th></th>                       <td> </td>        <th>                     </th>     <td> </td>    \n",
              "</tr>\n",
              "</table>\n",
              "<table class=\"simpletable\">\n",
              "<tr>\n",
              "        <td></td>           <th>coef</th>     <th>std err</th>      <th>z</th>      <th>P>|z|</th>  <th>[0.025</th>    <th>0.975]</th>  \n",
              "</tr>\n",
              "<tr>\n",
              "  <th>const</th>         <td>    0.8068</td> <td>    0.567</td> <td>    1.422</td> <td> 0.155</td> <td>   -0.305</td> <td>    1.919</td>\n",
              "</tr>\n",
              "<tr>\n",
              "  <th>ar.L1.D.Close</th> <td>   -1.4737</td> <td>    0.065</td> <td>  -22.687</td> <td> 0.000</td> <td>   -1.601</td> <td>   -1.346</td>\n",
              "</tr>\n",
              "<tr>\n",
              "  <th>ar.L2.D.Close</th> <td>   -0.8979</td> <td>    0.061</td> <td>  -14.820</td> <td> 0.000</td> <td>   -1.017</td> <td>   -0.779</td>\n",
              "</tr>\n",
              "<tr>\n",
              "  <th>ar.L3.D.Close</th> <td>   -0.1798</td> <td>    0.044</td> <td>   -4.093</td> <td> 0.000</td> <td>   -0.266</td> <td>   -0.094</td>\n",
              "</tr>\n",
              "<tr>\n",
              "  <th>ar.L4.D.Close</th> <td>   -0.2256</td> <td>    0.042</td> <td>   -5.429</td> <td> 0.000</td> <td>   -0.307</td> <td>   -0.144</td>\n",
              "</tr>\n",
              "<tr>\n",
              "  <th>ar.L5.D.Close</th> <td>   -0.0738</td> <td>    0.028</td> <td>   -2.611</td> <td> 0.009</td> <td>   -0.129</td> <td>   -0.018</td>\n",
              "</tr>\n",
              "<tr>\n",
              "  <th>ma.L1.D.Close</th> <td>    1.4811</td> <td>    0.061</td> <td>   24.385</td> <td> 0.000</td> <td>    1.362</td> <td>    1.600</td>\n",
              "</tr>\n",
              "<tr>\n",
              "  <th>ma.L2.D.Close</th> <td>    0.8476</td> <td>    0.046</td> <td>   18.233</td> <td> 0.000</td> <td>    0.756</td> <td>    0.939</td>\n",
              "</tr>\n",
              "</table>\n",
              "<table class=\"simpletable\">\n",
              "<caption>Roots</caption>\n",
              "<tr>\n",
              "    <td></td>   <th>            Real</th>  <th>         Imaginary</th> <th>         Modulus</th>  <th>        Frequency</th>\n",
              "</tr>\n",
              "<tr>\n",
              "  <th>AR.1</th> <td>          -0.8528</td> <td>          -0.6096j</td> <td>           1.0483</td> <td>          -0.4012</td>\n",
              "</tr>\n",
              "<tr>\n",
              "  <th>AR.2</th> <td>          -0.8528</td> <td>          +0.6096j</td> <td>           1.0483</td> <td>           0.4012</td>\n",
              "</tr>\n",
              "<tr>\n",
              "  <th>AR.3</th> <td>           0.8353</td> <td>          -1.8393j</td> <td>           2.0200</td> <td>          -0.1822</td>\n",
              "</tr>\n",
              "<tr>\n",
              "  <th>AR.4</th> <td>           0.8353</td> <td>          +1.8393j</td> <td>           2.0200</td> <td>           0.1822</td>\n",
              "</tr>\n",
              "<tr>\n",
              "  <th>AR.5</th> <td>          -3.0216</td> <td>          -0.0000j</td> <td>           3.0216</td> <td>          -0.5000</td>\n",
              "</tr>\n",
              "<tr>\n",
              "  <th>MA.1</th> <td>          -0.8737</td> <td>          -0.6454j</td> <td>           1.0862</td> <td>          -0.3987</td>\n",
              "</tr>\n",
              "<tr>\n",
              "  <th>MA.2</th> <td>          -0.8737</td> <td>          +0.6454j</td> <td>           1.0862</td> <td>           0.3987</td>\n",
              "</tr>\n",
              "</table>"
            ],
            "text/plain": [
              "<class 'statsmodels.iolib.summary.Summary'>\n",
              "\"\"\"\n",
              "                             ARIMA Model Results                              \n",
              "==============================================================================\n",
              "Dep. Variable:                D.Close   No. Observations:                 2037\n",
              "Model:                 ARIMA(5, 1, 2)   Log Likelihood               -9792.567\n",
              "Method:                       css-mle   S.D. of innovations             29.617\n",
              "Date:                Fri, 23 Apr 2021   AIC                          19603.135\n",
              "Time:                        19:30:13   BIC                          19653.708\n",
              "Sample:                             1   HQIC                         19621.687\n",
              "                                                                              \n",
              "=================================================================================\n",
              "                    coef    std err          z      P>|z|      [0.025      0.975]\n",
              "---------------------------------------------------------------------------------\n",
              "const             0.8068      0.567      1.422      0.155      -0.305       1.919\n",
              "ar.L1.D.Close    -1.4737      0.065    -22.687      0.000      -1.601      -1.346\n",
              "ar.L2.D.Close    -0.8979      0.061    -14.820      0.000      -1.017      -0.779\n",
              "ar.L3.D.Close    -0.1798      0.044     -4.093      0.000      -0.266      -0.094\n",
              "ar.L4.D.Close    -0.2256      0.042     -5.429      0.000      -0.307      -0.144\n",
              "ar.L5.D.Close    -0.0738      0.028     -2.611      0.009      -0.129      -0.018\n",
              "ma.L1.D.Close     1.4811      0.061     24.385      0.000       1.362       1.600\n",
              "ma.L2.D.Close     0.8476      0.046     18.233      0.000       0.756       0.939\n",
              "                                    Roots                                    \n",
              "=============================================================================\n",
              "                  Real          Imaginary           Modulus         Frequency\n",
              "-----------------------------------------------------------------------------\n",
              "AR.1           -0.8528           -0.6096j            1.0483           -0.4012\n",
              "AR.2           -0.8528           +0.6096j            1.0483            0.4012\n",
              "AR.3            0.8353           -1.8393j            2.0200           -0.1822\n",
              "AR.4            0.8353           +1.8393j            2.0200            0.1822\n",
              "AR.5           -3.0216           -0.0000j            3.0216           -0.5000\n",
              "MA.1           -0.8737           -0.6454j            1.0862           -0.3987\n",
              "MA.2           -0.8737           +0.6454j            1.0862            0.3987\n",
              "-----------------------------------------------------------------------------\n",
              "\"\"\""
            ]
          },
          "metadata": {
            "tags": []
          },
          "execution_count": 118
        }
      ]
    },
    {
      "cell_type": "code",
      "metadata": {
        "colab": {
          "base_uri": "https://localhost:8080/",
          "height": 670
        },
        "id": "AvrsY2-___mW",
        "outputId": "bd2f75a4-29fe-466d-9438-1bd7b1281280"
      },
      "source": [
        "\n",
        "start = len(train)\n",
        "end = len(train)+ len(test) -1\n",
        "pred = model2.predict(start=start, end=end, typ=\"levels\")\n",
        "\n",
        "\n",
        "model2.plot_predict()\n",
        "plt.show()\n",
        "\n",
        "# test['Date'] = pd.to_datetime(test['Date'])\n",
        "\n",
        "pred.index = test.index\n",
        "new_df = test.copy()\n",
        "new_df['Pred'] = pred\n",
        "new_df = new_df[['Close', 'Pred']]\n",
        "print(new_df.tail(20))"
      ],
      "execution_count": 113,
      "outputs": [
        {
          "output_type": "display_data",
          "data": {
            "image/png": "[encoded data removed]",
            "text/plain": [
              "<Figure size 432x288 with 1 Axes>"
            ]
          },
          "metadata": {
            "tags": []
          }
        },
        {
          "output_type": "stream",
          "text": [
            "              Close         Pred\n",
            "Date                            \n",
            "2021-02-25  2684.70  2716.284130\n",
            "2021-02-26  2539.40  2686.421005\n",
            "2021-03-01  2606.00  2530.448412\n",
            "2021-03-02  2564.00  2616.713809\n",
            "2021-03-03  2654.90  2580.652702\n",
            "2021-03-04  2582.95  2649.548458\n",
            "2021-03-05  2543.90  2578.019255\n",
            "2021-03-08  2510.25  2550.392951\n",
            "2021-03-09  2577.30  2505.166277\n",
            "2021-03-10  2599.80  2601.161720\n",
            "2021-03-12  2568.00  2588.839195\n",
            "2021-03-15  2535.50  2564.168118\n",
            "2021-03-16  2510.40  2538.244537\n",
            "2021-03-17  2515.55  2509.833080\n",
            "2021-03-18  2514.60  2529.827689\n",
            "2021-03-19  2531.65  2510.967814\n",
            "2021-03-22  2531.85  2535.343009\n",
            "2021-03-23  2509.90  2532.571505\n",
            "2021-03-24  2465.75  2505.405442\n",
            "2021-03-25  2470.75  2471.869541\n"
          ],
          "name": "stdout"
        }
      ]
    },
    {
      "cell_type": "code",
      "metadata": {
        "colab": {
          "base_uri": "https://localhost:8080/"
        },
        "id": "1PL512MWAAvS",
        "outputId": "fa42f7e1-c121-4058-ab60-a8847b556ec4"
      },
      "source": [
        "\n",
        "print(test.Close.mean())\n",
        "from sklearn.metrics import mean_squared_error\n",
        "from math import sqrt\n",
        "rmse=sqrt(mean_squared_error(pred, test.Close))\n",
        "print(\"The rmse is \", rmse)\n"
      ],
      "execution_count": 114,
      "outputs": [
        {
          "output_type": "stream",
          "text": [
            "2495.3054999999995\n",
            "The rmse is  52.37741765800268\n"
          ],
          "name": "stdout"
        }
      ]
    },
    {
      "cell_type": "code",
      "metadata": {
        "id": "qGNyekB4_43W"
      },
      "source": [
        "\n",
        "def workdays(d, end, excluded=(6, 7)):\n",
        "    days = []\n",
        "    while d.date() <= end.date():\n",
        "        if d.isoweekday() not in excluded:\n",
        "            days.append(d)\n",
        "        d += dt.timedelta(days=1)\n",
        "    return days\n"
      ],
      "execution_count": 13,
      "outputs": []
    },
    {
      "cell_type": "code",
      "metadata": {
        "id": "YlY_kF0-X0ow"
      },
      "source": [
        "from statsmodels.tsa.arima_model import ARIMAResults\n",
        "loaded = ARIMAResults.load('/content/HDFC_model.pkl')"
      ],
      "execution_count": 15,
      "outputs": []
    },
    {
      "cell_type": "code",
      "metadata": {
        "colab": {
          "base_uri": "https://localhost:8080/"
        },
        "id": "_WxaWm6XVyW8",
        "outputId": "aec910bd-9cea-4260-cc38-8ec4567dae16"
      },
      "source": [
        "import datetime as dt\n",
        "index_future_dates = workdays(dt.datetime(2021, 3, 25), dt.datetime.now() + dt.timedelta(days=20))\n",
        "pred = model2.predict(start=2038, end=2037+len(index_future_dates), typ='levels').rename('ARIMA PREDICTIONS')\n",
        "pred.index = index_future_dates\n",
        "pred = pred[dt.datetime.now():]\n",
        "print(pred)\n",
        "pred=pred.iloc[:10]\n",
        "print(len(pred))\n",
        "print(pred)\n"
      ],
      "execution_count": 115,
      "outputs": [
        {
          "output_type": "stream",
          "text": [
            "2021-04-26    2495.834477\n",
            "2021-04-27    2495.461316\n",
            "2021-04-28    2497.920426\n",
            "2021-04-29    2497.236457\n",
            "2021-04-30    2498.853490\n",
            "2021-05-03    2499.759402\n",
            "2021-05-04    2499.675041\n",
            "2021-05-05    2501.774890\n",
            "2021-05-06    2501.385724\n",
            "2021-05-07    2502.872127\n",
            "2021-05-10    2503.712509\n",
            "2021-05-11    2503.848740\n",
            "2021-05-12    2505.665834\n",
            "2021-05-13    2505.514795\n",
            "Name: ARIMA PREDICTIONS, dtype: float64\n",
            "10\n",
            "2021-04-26    2495.834477\n",
            "2021-04-27    2495.461316\n",
            "2021-04-28    2497.920426\n",
            "2021-04-29    2497.236457\n",
            "2021-04-30    2498.853490\n",
            "2021-05-03    2499.759402\n",
            "2021-05-04    2499.675041\n",
            "2021-05-05    2501.774890\n",
            "2021-05-06    2501.385724\n",
            "2021-05-07    2502.872127\n",
            "Name: ARIMA PREDICTIONS, dtype: float64\n"
          ],
          "name": "stdout"
        }
      ]
    },
    {
      "cell_type": "code",
      "metadata": {
        "colab": {
          "base_uri": "https://localhost:8080/",
          "height": 406
        },
        "id": "Cho9wfH4AA4S",
        "outputId": "8d471c10-b849-42ca-f5d2-93404bc97e5a"
      },
      "source": [
        "\n",
        "\n",
        "import datetime as dt\n",
        "# Future dates\n",
        "# print(dt.datetime.now())\n",
        "index_future_dates = pd.date_range(start = dt.datetime.now() , end=dt.datetime.now() + dt.timedelta(days=10))\n",
        "# print(index_future_dates)\n",
        "index_future_dates = workdays(dt.datetime(2021, 3, 25), dt.datetime.now() + dt.timedelta(days=10))\n",
        "# print(\"\\n\\n\\n\\n\",index_future_dates)\n",
        "# print(index_future_dates)\n",
        "pred = model2.predict(start=len(df), end=len(df)+len(index_future_dates)-1, typ='levels').rename('ARIMA PREDICTIONS')\n",
        "# print(\"the df is \", df, \"\\n\\n\\n\\n\\n\\n\")\n",
        "# print(len(df))\n",
        "pred.index = index_future_dates\n",
        "# print(pred)\n",
        "pred.plot(figsize=(12,5), legend =True)\n"
      ],
      "execution_count": 116,
      "outputs": [
        {
          "output_type": "execute_result",
          "data": {
            "text/plain": [
              "<matplotlib.axes._subplots.AxesSubplot at 0x7fc626d5ae10>"
            ]
          },
          "metadata": {
            "tags": []
          },
          "execution_count": 116
        },
        {
          "output_type": "display_data",
          "data": {
            "image/png": "[encoded data removed]",
            "text/plain": [
              "<Figure size 864x360 with 1 Axes>"
            ]
          },
          "metadata": {
            "tags": []
          }
        }
      ]
    },
    {
      "cell_type": "code",
      "metadata": {
        "id": "V9CAk58tCulz"
      },
      "source": [
        "model2.save('HDFC_model.pkl')"
      ],
      "execution_count": 117,
      "outputs": []
    },
    {
      "cell_type": "code",
      "metadata": {
        "id": "qyNfy642wCvg"
      },
      "source": [
        ""
      ],
      "execution_count": null,
      "outputs": []
    },
    {
      "cell_type": "code",
      "metadata": {
        "id": "ljgytyHkwDfu"
      },
      "source": [
        ""
      ],
      "execution_count": null,
      "outputs": []
    },
    {
      "cell_type": "markdown",
      "metadata": {
        "id": "V2lhGQAFwGpm"
      },
      "source": [
        "Testing with the values from API"
      ]
    },
    {
      "cell_type": "code",
      "metadata": {
        "colab": {
          "base_uri": "https://localhost:8080/"
        },
        "id": "8mJylp0lte9n",
        "outputId": "1cbedc90-02a9-4545-c857-034b3ddc4504"
      },
      "source": [
        "new_df = pd.read_csv('/content/drive/MyDrive/Mini Project Sem 6/file2.csv')\n",
        "print(new_df.head())\n",
        "new_df.index = pd.to_datetime(new_df['Date'])\n",
        "new_df = new_df[['Close']]\n",
        "print(type(new_df.index[-1]))\n",
        "print(type(pred.index[-1]))\n",
        "# print(new_df)\n",
        "print(type(pred))\n",
        "pred = pd.DataFrame(pred)\n",
        "# pred = pred.rename(columns = {0:'Close'})\n",
        "\n",
        "final_df = pd.concat([pred, new_df], axis=1)\n",
        "final_df = final_df.dropna(subset=['Close'])\n",
        "print(\"The final DF is \")\n"
      ],
      "execution_count": 39,
      "outputs": [
        {
          "output_type": "stream",
          "text": [
            "         Date Symbol Series  ...  Trades  Deliverable Volume  %Deliverble\n",
            "0  2015-01-01   HDFC     EQ  ...   11804              128793       0.3207\n",
            "1  2015-01-02   HDFC     EQ  ...   59071             1258847       0.6232\n",
            "2  2015-01-05   HDFC     EQ  ...   57749             1414720       0.6374\n",
            "3  2015-01-06   HDFC     EQ  ...   81436             1547523       0.6112\n",
            "4  2015-01-07   HDFC     EQ  ...  133109             1533304       0.6371\n",
            "\n",
            "[5 rows x 15 columns]\n",
            "<class 'pandas._libs.tslibs.timestamps.Timestamp'>\n",
            "<class 'pandas._libs.tslibs.timestamps.Timestamp'>\n",
            "<class 'pandas.core.frame.DataFrame'>\n",
            "The final DF is \n"
          ],
          "name": "stdout"
        }
      ]
    },
    {
      "cell_type": "code",
      "metadata": {
        "colab": {
          "base_uri": "https://localhost:8080/",
          "height": 550
        },
        "id": "KXnvmhQeu7U4",
        "outputId": "286dc8f9-429b-4270-e795-5a1f16df481d"
      },
      "source": [
        "final_df.dropna(inplace=True)\n",
        "final_df"
      ],
      "execution_count": 40,
      "outputs": [
        {
          "output_type": "execute_result",
          "data": {
            "text/html": [
              "<div>\n",
              "<style scoped>\n",
              "    .dataframe tbody tr th:only-of-type {\n",
              "        vertical-align: middle;\n",
              "    }\n",
              "\n",
              "    .dataframe tbody tr th {\n",
              "        vertical-align: top;\n",
              "    }\n",
              "\n",
              "    .dataframe thead th {\n",
              "        text-align: right;\n",
              "    }\n",
              "</style>\n",
              "<table border=\"1\" class=\"dataframe\">\n",
              "  <thead>\n",
              "    <tr style=\"text-align: right;\">\n",
              "      <th></th>\n",
              "      <th>ARIMA PREDICTIONS</th>\n",
              "      <th>Close</th>\n",
              "    </tr>\n",
              "  </thead>\n",
              "  <tbody>\n",
              "    <tr>\n",
              "      <th>2021-03-25</th>\n",
              "      <td>2473.503395</td>\n",
              "      <td>2470.75</td>\n",
              "    </tr>\n",
              "    <tr>\n",
              "      <th>2021-03-26</th>\n",
              "      <td>2479.989869</td>\n",
              "      <td>2532.75</td>\n",
              "    </tr>\n",
              "    <tr>\n",
              "      <th>2021-03-30</th>\n",
              "      <td>2478.075884</td>\n",
              "      <td>2605.65</td>\n",
              "    </tr>\n",
              "    <tr>\n",
              "      <th>2021-03-31</th>\n",
              "      <td>2482.858693</td>\n",
              "      <td>2498.10</td>\n",
              "    </tr>\n",
              "    <tr>\n",
              "      <th>2021-04-01</th>\n",
              "      <td>2480.230754</td>\n",
              "      <td>2531.45</td>\n",
              "    </tr>\n",
              "    <tr>\n",
              "      <th>2021-04-05</th>\n",
              "      <td>2484.365652</td>\n",
              "      <td>2445.85</td>\n",
              "    </tr>\n",
              "    <tr>\n",
              "      <th>2021-04-06</th>\n",
              "      <td>2482.465754</td>\n",
              "      <td>2472.30</td>\n",
              "    </tr>\n",
              "    <tr>\n",
              "      <th>2021-04-07</th>\n",
              "      <td>2486.673590</td>\n",
              "      <td>2482.70</td>\n",
              "    </tr>\n",
              "    <tr>\n",
              "      <th>2021-04-08</th>\n",
              "      <td>2484.622613</td>\n",
              "      <td>2502.55</td>\n",
              "    </tr>\n",
              "    <tr>\n",
              "      <th>2021-04-09</th>\n",
              "      <td>2486.757632</td>\n",
              "      <td>2513.90</td>\n",
              "    </tr>\n",
              "    <tr>\n",
              "      <th>2021-04-12</th>\n",
              "      <td>2488.108872</td>\n",
              "      <td>2419.85</td>\n",
              "    </tr>\n",
              "    <tr>\n",
              "      <th>2021-04-13</th>\n",
              "      <td>2486.867122</td>\n",
              "      <td>2512.95</td>\n",
              "    </tr>\n",
              "    <tr>\n",
              "      <th>2021-04-15</th>\n",
              "      <td>2488.861585</td>\n",
              "      <td>2547.15</td>\n",
              "    </tr>\n",
              "    <tr>\n",
              "      <th>2021-04-16</th>\n",
              "      <td>2490.800790</td>\n",
              "      <td>2574.05</td>\n",
              "    </tr>\n",
              "    <tr>\n",
              "      <th>2021-04-19</th>\n",
              "      <td>2491.946961</td>\n",
              "      <td>2492.35</td>\n",
              "    </tr>\n",
              "    <tr>\n",
              "      <th>2021-04-20</th>\n",
              "      <td>2491.196659</td>\n",
              "      <td>2415.90</td>\n",
              "    </tr>\n",
              "    <tr>\n",
              "      <th>2021-04-22</th>\n",
              "      <td>2493.063360</td>\n",
              "      <td>2479.70</td>\n",
              "    </tr>\n",
              "  </tbody>\n",
              "</table>\n",
              "</div>"
            ],
            "text/plain": [
              "            ARIMA PREDICTIONS    Close\n",
              "2021-03-25        2473.503395  2470.75\n",
              "2021-03-26        2479.989869  2532.75\n",
              "2021-03-30        2478.075884  2605.65\n",
              "2021-03-31        2482.858693  2498.10\n",
              "2021-04-01        2480.230754  2531.45\n",
              "2021-04-05        2484.365652  2445.85\n",
              "2021-04-06        2482.465754  2472.30\n",
              "2021-04-07        2486.673590  2482.70\n",
              "2021-04-08        2484.622613  2502.55\n",
              "2021-04-09        2486.757632  2513.90\n",
              "2021-04-12        2488.108872  2419.85\n",
              "2021-04-13        2486.867122  2512.95\n",
              "2021-04-15        2488.861585  2547.15\n",
              "2021-04-16        2490.800790  2574.05\n",
              "2021-04-19        2491.946961  2492.35\n",
              "2021-04-20        2491.196659  2415.90\n",
              "2021-04-22        2493.063360  2479.70"
            ]
          },
          "metadata": {
            "tags": []
          },
          "execution_count": 40
        }
      ]
    },
    {
      "cell_type": "code",
      "metadata": {
        "colab": {
          "base_uri": "https://localhost:8080/",
          "height": 550
        },
        "id": "j68uBILN6YrM",
        "outputId": "3bd22417-dcf9-49d2-ae70-fa41a506bdb8"
      },
      "source": [
        "final_df['ARIMA PREDICTIONS'] = final_df['ARIMA PREDICTIONS'].apply(lambda x: \"%.2f\" % x)\n",
        "final_df['ARIMA PREDICTIONS'] = final_df['ARIMA PREDICTIONS'].astype(float)\n",
        "final_df['Error'] = final_df['Close']-final_df['ARIMA PREDICTIONS']\n",
        "final_df['Percentage Error'] = (((-final_df['Close']) + final_df['ARIMA PREDICTIONS']) / final_df['Close']) * 100\n",
        "final_df"
      ],
      "execution_count": 46,
      "outputs": [
        {
          "output_type": "execute_result",
          "data": {
            "text/html": [
              "<div>\n",
              "<style scoped>\n",
              "    .dataframe tbody tr th:only-of-type {\n",
              "        vertical-align: middle;\n",
              "    }\n",
              "\n",
              "    .dataframe tbody tr th {\n",
              "        vertical-align: top;\n",
              "    }\n",
              "\n",
              "    .dataframe thead th {\n",
              "        text-align: right;\n",
              "    }\n",
              "</style>\n",
              "<table border=\"1\" class=\"dataframe\">\n",
              "  <thead>\n",
              "    <tr style=\"text-align: right;\">\n",
              "      <th></th>\n",
              "      <th>ARIMA PREDICTIONS</th>\n",
              "      <th>Close</th>\n",
              "      <th>Error</th>\n",
              "      <th>Percentage Error</th>\n",
              "    </tr>\n",
              "  </thead>\n",
              "  <tbody>\n",
              "    <tr>\n",
              "      <th>2021-03-25</th>\n",
              "      <td>2473.50</td>\n",
              "      <td>2470.75</td>\n",
              "      <td>-2.75</td>\n",
              "      <td>0.111302</td>\n",
              "    </tr>\n",
              "    <tr>\n",
              "      <th>2021-03-26</th>\n",
              "      <td>2479.99</td>\n",
              "      <td>2532.75</td>\n",
              "      <td>52.76</td>\n",
              "      <td>-2.083111</td>\n",
              "    </tr>\n",
              "    <tr>\n",
              "      <th>2021-03-30</th>\n",
              "      <td>2478.08</td>\n",
              "      <td>2605.65</td>\n",
              "      <td>127.57</td>\n",
              "      <td>-4.895899</td>\n",
              "    </tr>\n",
              "    <tr>\n",
              "      <th>2021-03-31</th>\n",
              "      <td>2482.86</td>\n",
              "      <td>2498.10</td>\n",
              "      <td>15.24</td>\n",
              "      <td>-0.610064</td>\n",
              "    </tr>\n",
              "    <tr>\n",
              "      <th>2021-04-01</th>\n",
              "      <td>2480.23</td>\n",
              "      <td>2531.45</td>\n",
              "      <td>51.22</td>\n",
              "      <td>-2.023346</td>\n",
              "    </tr>\n",
              "    <tr>\n",
              "      <th>2021-04-05</th>\n",
              "      <td>2484.37</td>\n",
              "      <td>2445.85</td>\n",
              "      <td>-38.52</td>\n",
              "      <td>1.574913</td>\n",
              "    </tr>\n",
              "    <tr>\n",
              "      <th>2021-04-06</th>\n",
              "      <td>2482.47</td>\n",
              "      <td>2472.30</td>\n",
              "      <td>-10.17</td>\n",
              "      <td>0.411358</td>\n",
              "    </tr>\n",
              "    <tr>\n",
              "      <th>2021-04-07</th>\n",
              "      <td>2486.67</td>\n",
              "      <td>2482.70</td>\n",
              "      <td>-3.97</td>\n",
              "      <td>0.159907</td>\n",
              "    </tr>\n",
              "    <tr>\n",
              "      <th>2021-04-08</th>\n",
              "      <td>2484.62</td>\n",
              "      <td>2502.55</td>\n",
              "      <td>17.93</td>\n",
              "      <td>-0.716469</td>\n",
              "    </tr>\n",
              "    <tr>\n",
              "      <th>2021-04-09</th>\n",
              "      <td>2486.76</td>\n",
              "      <td>2513.90</td>\n",
              "      <td>27.14</td>\n",
              "      <td>-1.079597</td>\n",
              "    </tr>\n",
              "    <tr>\n",
              "      <th>2021-04-12</th>\n",
              "      <td>2488.11</td>\n",
              "      <td>2419.85</td>\n",
              "      <td>-68.26</td>\n",
              "      <td>2.820836</td>\n",
              "    </tr>\n",
              "    <tr>\n",
              "      <th>2021-04-13</th>\n",
              "      <td>2486.87</td>\n",
              "      <td>2512.95</td>\n",
              "      <td>26.08</td>\n",
              "      <td>-1.037824</td>\n",
              "    </tr>\n",
              "    <tr>\n",
              "      <th>2021-04-15</th>\n",
              "      <td>2488.86</td>\n",
              "      <td>2547.15</td>\n",
              "      <td>58.29</td>\n",
              "      <td>-2.288440</td>\n",
              "    </tr>\n",
              "    <tr>\n",
              "      <th>2021-04-16</th>\n",
              "      <td>2490.80</td>\n",
              "      <td>2574.05</td>\n",
              "      <td>83.25</td>\n",
              "      <td>-3.234203</td>\n",
              "    </tr>\n",
              "    <tr>\n",
              "      <th>2021-04-19</th>\n",
              "      <td>2491.95</td>\n",
              "      <td>2492.35</td>\n",
              "      <td>0.40</td>\n",
              "      <td>-0.016049</td>\n",
              "    </tr>\n",
              "    <tr>\n",
              "      <th>2021-04-20</th>\n",
              "      <td>2491.20</td>\n",
              "      <td>2415.90</td>\n",
              "      <td>-75.30</td>\n",
              "      <td>3.116851</td>\n",
              "    </tr>\n",
              "    <tr>\n",
              "      <th>2021-04-22</th>\n",
              "      <td>2493.06</td>\n",
              "      <td>2479.70</td>\n",
              "      <td>-13.36</td>\n",
              "      <td>0.538775</td>\n",
              "    </tr>\n",
              "  </tbody>\n",
              "</table>\n",
              "</div>"
            ],
            "text/plain": [
              "            ARIMA PREDICTIONS    Close   Error  Percentage Error\n",
              "2021-03-25            2473.50  2470.75   -2.75          0.111302\n",
              "2021-03-26            2479.99  2532.75   52.76         -2.083111\n",
              "2021-03-30            2478.08  2605.65  127.57         -4.895899\n",
              "2021-03-31            2482.86  2498.10   15.24         -0.610064\n",
              "2021-04-01            2480.23  2531.45   51.22         -2.023346\n",
              "2021-04-05            2484.37  2445.85  -38.52          1.574913\n",
              "2021-04-06            2482.47  2472.30  -10.17          0.411358\n",
              "2021-04-07            2486.67  2482.70   -3.97          0.159907\n",
              "2021-04-08            2484.62  2502.55   17.93         -0.716469\n",
              "2021-04-09            2486.76  2513.90   27.14         -1.079597\n",
              "2021-04-12            2488.11  2419.85  -68.26          2.820836\n",
              "2021-04-13            2486.87  2512.95   26.08         -1.037824\n",
              "2021-04-15            2488.86  2547.15   58.29         -2.288440\n",
              "2021-04-16            2490.80  2574.05   83.25         -3.234203\n",
              "2021-04-19            2491.95  2492.35    0.40         -0.016049\n",
              "2021-04-20            2491.20  2415.90  -75.30          3.116851\n",
              "2021-04-22            2493.06  2479.70  -13.36          0.538775"
            ]
          },
          "metadata": {
            "tags": []
          },
          "execution_count": 46
        }
      ]
    },
    {
      "cell_type": "code",
      "metadata": {
        "colab": {
          "base_uri": "https://localhost:8080/"
        },
        "id": "OjTF7jwnCNM-",
        "outputId": "d3af9909-bcbc-4e18-da13-d695a7053afb"
      },
      "source": [
        "print('Average percentage error is ', sum(final_df['Percentage Error'].tolist())/len(final_df['Percentage Error'].tolist()))"
      ],
      "execution_count": 53,
      "outputs": [
        {
          "output_type": "stream",
          "text": [
            "Average percentage error is  -0.5441801343558865\n"
          ],
          "name": "stdout"
        }
      ]
    },
    {
      "cell_type": "code",
      "metadata": {
        "colab": {
          "base_uri": "https://localhost:8080/",
          "height": 626
        },
        "id": "yacCJCPiAYIC",
        "outputId": "3608f1fa-cdd9-4c67-c751-1cdfa4368cad"
      },
      "source": [
        "sales_by_city = pd.concat([df['Close'], final_df['ARIMA PREDICTIONS']], axis=1)\n",
        "print(sales_by_city)\n",
        "sales_by_city.plot(kind='line',title= 'Planned vs Actual', style='-o', cmap='Dark2',figsize=(10,6), rot=30);"
      ],
      "execution_count": 54,
      "outputs": [
        {
          "output_type": "stream",
          "text": [
            "             Close  ARIMA PREDICTIONS\n",
            "2013-01-01  832.95                NaN\n",
            "2013-01-02  846.60                NaN\n",
            "2013-01-03  845.50                NaN\n",
            "2013-01-04  837.70                NaN\n",
            "2013-01-07  822.95                NaN\n",
            "...            ...                ...\n",
            "2021-04-15     NaN            2488.86\n",
            "2021-04-16     NaN            2490.80\n",
            "2021-04-19     NaN            2491.95\n",
            "2021-04-20     NaN            2491.20\n",
            "2021-04-22     NaN            2493.06\n",
            "\n",
            "[2054 rows x 2 columns]\n"
          ],
          "name": "stdout"
        },
        {
          "output_type": "display_data",
          "data": {
            "image/png": "[encoded data removed]",
            "text/plain": [
              "<Figure size 720x432 with 1 Axes>"
            ]
          },
          "metadata": {
            "tags": []
          }
        }
      ]
    },
    {
      "cell_type": "code",
      "metadata": {
        "colab": {
          "base_uri": "https://localhost:8080/"
        },
        "id": "uA0aqhNz9Me5",
        "outputId": "e99b92bf-c09a-455a-f9e1-2c697f63ba1f"
      },
      "source": [
        "from math import sqrt\n",
        "sqrt(mean_squared_error(final_df['Close'], final_df['ARIMA PREDICTIONS']))"
      ],
      "execution_count": 42,
      "outputs": [
        {
          "output_type": "execute_result",
          "data": {
            "text/plain": [
              "52.07387055057122"
            ]
          },
          "metadata": {
            "tags": []
          },
          "execution_count": 42
        }
      ]
    },
    {
      "cell_type": "code",
      "metadata": {
        "colab": {
          "base_uri": "https://localhost:8080/"
        },
        "id": "kwCqTcFP5asP",
        "outputId": "0820b4b7-23bc-40c2-b605-656ba925a16f"
      },
      "source": [
        "type(final_df.iloc[1]['ARIMA PREDICTIONS'])"
      ],
      "execution_count": 30,
      "outputs": [
        {
          "output_type": "execute_result",
          "data": {
            "text/plain": [
              "numpy.float64"
            ]
          },
          "metadata": {
            "tags": []
          },
          "execution_count": 30
        }
      ]
    }
  ]
}