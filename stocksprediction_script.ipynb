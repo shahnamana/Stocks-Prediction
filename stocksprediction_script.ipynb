{
  "nbformat": 4,
  "nbformat_minor": 0,
  "metadata": {
    "colab": {
      "name": "stocksprediction_script.ipynb",
      "provenance": [],
      "collapsed_sections": []
    },
    "kernelspec": {
      "display_name": "Python 3",
      "language": "python",
      "name": "python3"
    },
    "language_info": {
      "codemirror_mode": {
        "name": "ipython",
        "version": 3
      },
      "file_extension": ".py",
      "mimetype": "text/x-python",
      "name": "python",
      "nbconvert_exporter": "python",
      "pygments_lexer": "ipython3",
      "version": "3.6.12"
    }
  },
  "cells": [
    {
      "cell_type": "code",
      "metadata": {
        "id": "zbx2croUc5s2"
      },
      "source": [
        "#Importing the libraries\n",
        "# !pip install nsepy\n",
        "# from nsepy import get_history as gh\n",
        "import datetime as dt\n",
        "from matplotlib import pyplot as plt\n",
        "from sklearn import model_selection\n",
        "from sklearn.metrics import confusion_matrix\n",
        "from sklearn.preprocessing import StandardScaler\n",
        "from sklearn.model_selection import train_test_split\n",
        "import numpy as np\n",
        "import pandas as pd\n",
        "from sklearn.preprocessing import MinMaxScaler\n",
        "from keras.models import Sequential\n",
        "from keras.layers import Dense\n",
        "from keras.layers import LSTM\n",
        "from keras.layers import Dropout\n",
        "import keras"
      ],
      "execution_count": null,
      "outputs": []
    },
    {
      "cell_type": "code",
      "metadata": {
        "id": "zewb8RUOdIoh"
      },
      "source": [
        "from google.colab import drive\n",
        "drive.mount('/content/drive')"
      ],
      "execution_count": null,
      "outputs": []
    },
    {
      "cell_type": "code",
      "metadata": {
        "id": "PFwn32_tc5vs"
      },
      "source": [
        "#Setting start and end dates and fetching the historical data\n",
        "start = dt.datetime(2013,1,1)\n",
        "end = dt.datetime.now()\n",
        "stk_data = gh(symbol='SBIN',start=start,end=end)"
      ],
      "execution_count": null,
      "outputs": []
    },
    {
      "cell_type": "code",
      "metadata": {
        "id": "UtVdmhLcc5v1"
      },
      "source": [
        "#Visualizing the fetched data\n",
        "plt.figure(figsize=(14,14))\n",
        "plt.plot(stk_data['Close'])\n",
        "plt.title('Historical Stock Value')\n",
        "plt.xlabel('Date')\n",
        "plt.ylabel('Stock Price')\n",
        "plt.show()"
      ],
      "execution_count": null,
      "outputs": []
    },
    {
      "cell_type": "code",
      "metadata": {
        "id": "5NwwT8GUc5v9"
      },
      "source": [
        "#Data Preprocessing\n",
        "stk_data['Date'] = stk_data.index\n",
        "data2 = pd.DataFrame(columns = ['Date', 'Open', 'High', 'Low', 'Close'])\n",
        "data2['Date'] = stk_data['Date']\n",
        "data2['Open'] = stk_data['Open']\n",
        "data2['High'] = stk_data['High']\n",
        "data2['Low'] = stk_data['Low']\n",
        "data2['Close'] = stk_data['Close']\n",
        "train_set = data2.iloc[:, 1:2].values\n",
        "sc = MinMaxScaler(feature_range = (0, 1))\n",
        "training_set_scaled = sc.fit_transform(train_set)\n",
        "X_train = []\n",
        "y_train = []\n",
        "for i in range(60, 1482):\n",
        "    X_train.append(training_set_scaled[i-60:i, 0])\n",
        "    y_train.append(training_set_scaled[i, 0])\n",
        "X_train, y_train = np.array(X_train), np.array(y_train)\n",
        "X_train = np.reshape(X_train, (X_train.shape[0], X_train.shape[1], 1))\n"
      ],
      "execution_count": null,
      "outputs": []
    },
    {
      "cell_type": "code",
      "metadata": {
        "id": "pXwEBgnVc5wG"
      },
      "source": [
        "#Defining the LSTM Recurrent Model\n",
        "regressor = Sequential()\n",
        "regressor.add(LSTM(units = 50, return_sequences = True, input_shape = (X_train.shape[1], 1)))\n",
        "regressor.add(Dropout(0.2))\n",
        "regressor.add(LSTM(units = 50, return_sequences = True))\n",
        "regressor.add(Dropout(0.2))\n",
        "regressor.add(LSTM(units = 50, return_sequences = True))\n",
        "regressor.add(Dropout(0.2))\n",
        "regressor.add(LSTM(units = 50))\n",
        "regressor.add(Dropout(0.2))\n",
        "regressor.add(Dense(units = 1))"
      ],
      "execution_count": null,
      "outputs": []
    },
    {
      "cell_type": "code",
      "metadata": {
        "id": "8aAF4IGvc5wN",
        "collapsed": true,
        "outputId": "eabe3015-67d1-48b6-e6b5-2c09702efb50"
      },
      "source": [
        "#Compiling and fitting the model\n",
        "regressor.compile(optimizer = 'adam', loss = 'mean_squared_error')\n",
        "regressor.fit(X_train, y_train, epochs = 10, batch_size = 32)\n"
      ],
      "execution_count": null,
      "outputs": [
        {
          "output_type": "stream",
          "text": [
            "Epoch 1/10\n",
            "1422/1422 [==============================] - 16s 11ms/step - loss: 0.0226\n",
            "Epoch 2/10\n",
            "1422/1422 [==============================] - 13s 9ms/step - loss: 0.0081\n",
            "Epoch 3/10\n",
            "1422/1422 [==============================] - 14s 10ms/step - loss: 0.0071\n",
            "Epoch 4/10\n",
            "1422/1422 [==============================] - 12s 8ms/step - loss: 0.0063\n",
            "Epoch 5/10\n",
            "1422/1422 [==============================] - 12s 8ms/step - loss: 0.0058\n",
            "Epoch 6/10\n",
            "1422/1422 [==============================] - 13s 9ms/step - loss: 0.0058\n",
            "Epoch 7/10\n",
            "1422/1422 [==============================] - 14s 10ms/step - loss: 0.0054\n",
            "Epoch 8/10\n",
            "1422/1422 [==============================] - 13s 9ms/step - loss: 0.0051\n",
            "Epoch 9/10\n",
            "1422/1422 [==============================] - 14s 10ms/step - loss: 0.0048\n",
            "Epoch 10/10\n",
            "1422/1422 [==============================] - 13s 9ms/step - loss: 0.0051\n"
          ],
          "name": "stdout"
        },
        {
          "output_type": "execute_result",
          "data": {
            "text/plain": [
              "<keras.callbacks.callbacks.History at 0x17cd0608c18>"
            ]
          },
          "metadata": {
            "tags": []
          },
          "execution_count": 12
        }
      ]
    },
    {
      "cell_type": "code",
      "metadata": {
        "id": "_wk64VWlc5wV",
        "outputId": "3a4cd8f2-319a-4c28-aea0-efa698185466"
      },
      "source": [
        "#Fetching the test data and preprocessing\n",
        "current = dt.datetime.now()\n",
        "# print(current.day, curr)\n",
        "# testdataframe = gh(symbol='SBIN',start=dt.datetime(2019,1,1),end=dt.datetime(2019,9,18))\n",
        "testdataframe = gh(symbol='SBIN',start=dt.datetime(2019,1,1),end=dt.datetime.now())\n",
        "testdataframe['Date'] = testdataframe.index\n",
        "testdata = pd.DataFrame(columns = ['Date', 'Open', 'High', 'Low', 'Close'])\n",
        "testdata['Date'] = testdataframe['Date']\n",
        "testdata['Open'] = testdataframe['Open']\n",
        "testdata['High'] = testdataframe['High']\n",
        "testdata['Low'] = testdataframe['Low']\n",
        "testdata['Close'] = testdataframe['Close']\n",
        "real_stock_price = testdata.iloc[:, 1:2].values\n",
        "dataset_total = pd.concat((data2['Open'], testdata['Open']), axis = 0)\n",
        "inputs = dataset_total[len(dataset_total) - len(testdata) - 60:].values\n",
        "inputs = inputs.reshape(-1,1)\n",
        "inputs = sc.transform(inputs)\n",
        "X_test = []\n",
        "print(len(inputs))\n",
        "for i in range(60, 235):\n",
        "    X_test.append(inputs[i-60:i, 0])\n",
        "X_test = np.array(X_test)\n",
        "X_test = np.reshape(X_test, (X_test.shape[0], X_test.shape[1], 1))\n",
        "print(len(X_test))"
      ],
      "execution_count": null,
      "outputs": [
        {
          "output_type": "stream",
          "text": [
            "596\n",
            "175\n"
          ],
          "name": "stdout"
        }
      ]
    },
    {
      "cell_type": "code",
      "metadata": {
        "id": "Mr0iwNGGc5wd",
        "outputId": "d324f3fe-8918-485e-e9be-cc83b670d295"
      },
      "source": [
        "#Making predictions on the test data\n",
        "predicted_stock_price = regressor.predict(X_test)\n",
        "\n",
        "predicted_stock_price = sc.inverse_transform(predicted_stock_price)\n",
        "regressor.save(r\"C:\\Users\\Naman Shah\\Desktop\\Sem 7 20-21\\mini project\\model.h5\")\n",
        "\n",
        "# regressor.save_weights(r\"C:\\Users\\Naman Shah\\Desktop\\Sem 7 20-21\\mini project\\model.h5\")\n",
        "print(\"Saved model to disk\")"
      ],
      "execution_count": null,
      "outputs": [
        {
          "output_type": "stream",
          "text": [
            "Saved model to disk\n"
          ],
          "name": "stdout"
        }
      ]
    },
    {
      "cell_type": "code",
      "metadata": {
        "id": "Fz1SbwnLc5wp",
        "collapsed": true,
        "outputId": "0731ddf1-ac05-4f1d-a7ed-e2c05844b0fa"
      },
      "source": [
        "reconstructed_model = keras.models.load_model(r\"C:\\Users\\Naman Shah\\Desktop\\Sem 7 20-21\\mini project\\model.h5\")\n",
        "print(X_test[0])\n",
        "# print(reconstructed_model.predict(X_test))\n"
      ],
      "execution_count": null,
      "outputs": [
        {
          "output_type": "stream",
          "text": [
            "[[0.0343672 ]\n",
            " [0.03470588]\n",
            " [0.03745098]\n",
            " [0.03987522]\n",
            " [0.04242424]\n",
            " [0.04283422]\n",
            " [0.04172906]\n",
            " [0.04210339]\n",
            " [0.04351159]\n",
            " [0.04352941]\n",
            " [0.04308378]\n",
            " [0.04208556]\n",
            " [0.0412656 ]\n",
            " [0.04153298]\n",
            " [0.03666667]\n",
            " [0.03743316]\n",
            " [0.04030303]\n",
            " [0.04163993]\n",
            " [0.04433155]\n",
            " [0.04493761]\n",
            " [0.04386809]\n",
            " [0.04383244]\n",
            " [0.04631016]\n",
            " [0.04495544]\n",
            " [0.04672014]\n",
            " [0.04885918]\n",
            " [0.04925134]\n",
            " [0.04850267]\n",
            " [0.04565062]\n",
            " [0.05135472]\n",
            " [0.05516934]\n",
            " [0.05520499]\n",
            " [0.05402852]\n",
            " [0.05194296]\n",
            " [0.05235294]\n",
            " [0.05420677]\n",
            " [0.05117647]\n",
            " [0.0472549 ]\n",
            " [0.04572193]\n",
            " [0.04276292]\n",
            " [0.04764706]\n",
            " [0.04746881]\n",
            " [0.05812834]\n",
            " [0.06481283]\n",
            " [0.06504456]\n",
            " [0.08379679]\n",
            " [0.08771836]\n",
            " [0.08727273]\n",
            " [0.08631016]\n",
            " [0.08550802]\n",
            " [0.08522282]\n",
            " [0.08754011]\n",
            " [0.09270945]\n",
            " [0.08950089]\n",
            " [0.09736185]\n",
            " [0.09377897]\n",
            " [0.08864528]\n",
            " [0.08557932]\n",
            " [0.08736185]\n",
            " [0.09235294]]\n"
          ],
          "name": "stdout"
        }
      ]
    },
    {
      "cell_type": "code",
      "metadata": {
        "id": "JQOUgNNwc5wy",
        "collapsed": true,
        "outputId": "b5655688-f4fe-464b-8550-7391dc1e3907"
      },
      "source": [
        "#Visualizing the prediction\n",
        "plt.figure(figsize=(20,10))\n",
        "plt.plot(real_stock_price, color = 'green', label = 'SBI Stock Price')\n",
        "plt.plot(predicted_stock_price, color = 'red', label = 'Predicted SBI Stock Price')\n",
        "plt.title('SBI Stock Price Prediction')\n",
        "plt.xlabel('Trading Day')\n",
        "plt.ylabel('SBI Stock Price')\n",
        "plt.legend()\n",
        "plt.show()\n"
      ],
      "execution_count": null,
      "outputs": [
        {
          "output_type": "display_data",
          "data": {
            "image/png": "[encoded data removed]",
            "text/plain": [
              "<Figure size 1440x720 with 1 Axes>"
            ]
          },
          "metadata": {
            "tags": []
          }
        }
      ]
    },
    {
      "cell_type": "code",
      "metadata": {
        "colab": {
          "base_uri": "https://localhost:8080/",
          "height": 402
        },
        "id": "W4Ok8EYtc5w5",
        "collapsed": true,
        "outputId": "eb218f66-24d4-4ae3-d10e-11df352e2bd9"
      },
      "source": [
        "df = pd.read_csv('/content/drive/MyDrive/sbi_data.csv',usecols = ['Date','Close'])\n",
        "df"
      ],
      "execution_count": null,
      "outputs": [
        {
          "output_type": "execute_result",
          "data": {
            "text/html": [
              "<div>\n",
              "<style scoped>\n",
              "    .dataframe tbody tr th:only-of-type {\n",
              "        vertical-align: middle;\n",
              "    }\n",
              "\n",
              "    .dataframe tbody tr th {\n",
              "        vertical-align: top;\n",
              "    }\n",
              "\n",
              "    .dataframe thead th {\n",
              "        text-align: right;\n",
              "    }\n",
              "</style>\n",
              "<table border=\"1\" class=\"dataframe\">\n",
              "  <thead>\n",
              "    <tr style=\"text-align: right;\">\n",
              "      <th></th>\n",
              "      <th>Date</th>\n",
              "      <th>Close</th>\n",
              "    </tr>\n",
              "  </thead>\n",
              "  <tbody>\n",
              "    <tr>\n",
              "      <th>0</th>\n",
              "      <td>2013-01-01</td>\n",
              "      <td>832.95</td>\n",
              "    </tr>\n",
              "    <tr>\n",
              "      <th>1</th>\n",
              "      <td>2013-01-02</td>\n",
              "      <td>846.60</td>\n",
              "    </tr>\n",
              "    <tr>\n",
              "      <th>2</th>\n",
              "      <td>2013-01-03</td>\n",
              "      <td>845.50</td>\n",
              "    </tr>\n",
              "    <tr>\n",
              "      <th>3</th>\n",
              "      <td>2013-01-04</td>\n",
              "      <td>837.70</td>\n",
              "    </tr>\n",
              "    <tr>\n",
              "      <th>4</th>\n",
              "      <td>2013-01-07</td>\n",
              "      <td>822.95</td>\n",
              "    </tr>\n",
              "    <tr>\n",
              "      <th>...</th>\n",
              "      <td>...</td>\n",
              "      <td>...</td>\n",
              "    </tr>\n",
              "    <tr>\n",
              "      <th>2014</th>\n",
              "      <td>2021-02-19</td>\n",
              "      <td>2741.30</td>\n",
              "    </tr>\n",
              "    <tr>\n",
              "      <th>2015</th>\n",
              "      <td>2021-02-22</td>\n",
              "      <td>2651.95</td>\n",
              "    </tr>\n",
              "    <tr>\n",
              "      <th>2016</th>\n",
              "      <td>2021-02-23</td>\n",
              "      <td>2628.60</td>\n",
              "    </tr>\n",
              "    <tr>\n",
              "      <th>2017</th>\n",
              "      <td>2021-02-24</td>\n",
              "      <td>2707.75</td>\n",
              "    </tr>\n",
              "    <tr>\n",
              "      <th>2018</th>\n",
              "      <td>2021-02-25</td>\n",
              "      <td>2684.70</td>\n",
              "    </tr>\n",
              "  </tbody>\n",
              "</table>\n",
              "<p>2019 rows × 2 columns</p>\n",
              "</div>"
            ],
            "text/plain": [
              "            Date    Close\n",
              "0     2013-01-01   832.95\n",
              "1     2013-01-02   846.60\n",
              "2     2013-01-03   845.50\n",
              "3     2013-01-04   837.70\n",
              "4     2013-01-07   822.95\n",
              "...          ...      ...\n",
              "2014  2021-02-19  2741.30\n",
              "2015  2021-02-22  2651.95\n",
              "2016  2021-02-23  2628.60\n",
              "2017  2021-02-24  2707.75\n",
              "2018  2021-02-25  2684.70\n",
              "\n",
              "[2019 rows x 2 columns]"
            ]
          },
          "metadata": {
            "tags": []
          },
          "execution_count": 5
        }
      ]
    },
    {
      "cell_type": "code",
      "metadata": {
        "id": "lZ2VP9Zsc5w7"
      },
      "source": [
        "df1 = df.reset_index()['Close']"
      ],
      "execution_count": null,
      "outputs": []
    },
    {
      "cell_type": "code",
      "metadata": {
        "colab": {
          "base_uri": "https://localhost:8080/"
        },
        "id": "1FW6E6PIc5w9",
        "collapsed": true,
        "outputId": "47227852-f7eb-4884-af0d-b945b4b25292"
      },
      "source": [
        "df1"
      ],
      "execution_count": null,
      "outputs": [
        {
          "output_type": "execute_result",
          "data": {
            "text/plain": [
              "0        832.95\n",
              "1        846.60\n",
              "2        845.50\n",
              "3        837.70\n",
              "4        822.95\n",
              "         ...   \n",
              "2014    2741.30\n",
              "2015    2651.95\n",
              "2016    2628.60\n",
              "2017    2707.75\n",
              "2018    2684.70\n",
              "Name: Close, Length: 2019, dtype: float64"
            ]
          },
          "metadata": {
            "tags": []
          },
          "execution_count": 7
        }
      ]
    },
    {
      "cell_type": "code",
      "metadata": {
        "colab": {
          "base_uri": "https://localhost:8080/",
          "height": 282
        },
        "id": "wJfFVT4Yc5xD",
        "collapsed": true,
        "outputId": "4e1f9a36-af5f-448c-df27-862deb03b261"
      },
      "source": [
        "plt.plot(df1)"
      ],
      "execution_count": null,
      "outputs": [
        {
          "output_type": "execute_result",
          "data": {
            "text/plain": [
              "[<matplotlib.lines.Line2D at 0x7f3387584e50>]"
            ]
          },
          "metadata": {
            "tags": []
          },
          "execution_count": 8
        },
        {
          "output_type": "display_data",
          "data": {
            "image/png": "[encoded data removed]",
            "text/plain": [
              "<Figure size 432x288 with 1 Axes>"
            ]
          },
          "metadata": {
            "tags": []
          }
        }
      ]
    },
    {
      "cell_type": "code",
      "metadata": {
        "id": "Lc7WxXGhc5xK"
      },
      "source": [
        "from sklearn.preprocessing import MinMaxScaler\n",
        "scaler = MinMaxScaler(feature_range=(0,1))\n",
        "df1 = scaler.fit_transform(np.array(df1).reshape(-1,1))"
      ],
      "execution_count": null,
      "outputs": []
    },
    {
      "cell_type": "code",
      "metadata": {
        "colab": {
          "base_uri": "https://localhost:8080/"
        },
        "id": "NCWbxLRvc5xO",
        "collapsed": true,
        "outputId": "14fcf7c4-ac69-4dfd-c1bf-6e3c7fa661f7"
      },
      "source": [
        "df1"
      ],
      "execution_count": null,
      "outputs": [
        {
          "output_type": "execute_result",
          "data": {
            "text/plain": [
              "array([[0.08162341],\n",
              "       [0.08780631],\n",
              "       [0.08730806],\n",
              "       ...,\n",
              "       [0.8949812 ],\n",
              "       [0.93083299],\n",
              "       [0.92039226]])"
            ]
          },
          "metadata": {
            "tags": []
          },
          "execution_count": 10
        }
      ]
    },
    {
      "cell_type": "code",
      "metadata": {
        "id": "9tUKvKyVc5xT"
      },
      "source": [
        "# Splitting the dataset into 65% train\n",
        "training_size = int(len(df1)*0.65)\n",
        "test_size = len(df1) - training_size\n",
        "train_data, test_data = df1[0:training_size,:], df1[training_size:len(df1),:1]"
      ],
      "execution_count": null,
      "outputs": []
    },
    {
      "cell_type": "code",
      "metadata": {
        "colab": {
          "base_uri": "https://localhost:8080/"
        },
        "id": "EH11tNiwc5xX",
        "collapsed": true,
        "outputId": "807852e0-9633-4bb4-dc79-d53cec2f201b"
      },
      "source": [
        "training_size, test_size"
      ],
      "execution_count": null,
      "outputs": [
        {
          "output_type": "execute_result",
          "data": {
            "text/plain": [
              "(1312, 707)"
            ]
          },
          "metadata": {
            "tags": []
          },
          "execution_count": 12
        }
      ]
    },
    {
      "cell_type": "code",
      "metadata": {
        "colab": {
          "background_save": true
        },
        "id": "tx7rmCvOc5xc"
      },
      "source": [
        "def create_dataset(dataset, time_step=1):\n",
        "    dataX, dataY = [],[]\n",
        "    for i in range(len(dataset)-time_step-1):\n",
        "        a = dataset[i:(i+time_step),0]\n",
        "        dataX.append(a)\n",
        "        dataY.append(dataset[i+time_step, 0])\n",
        "    return np.array(dataX), np.array(dataY)"
      ],
      "execution_count": null,
      "outputs": []
    },
    {
      "cell_type": "code",
      "metadata": {
        "id": "JUDvlDPzc5xh"
      },
      "source": [
        "time_step = 100\n",
        "X_train, y_train = create_dataset(train_data, time_step)\n",
        "X_test, ytest = create_dataset(test_data, time_step)"
      ],
      "execution_count": null,
      "outputs": []
    },
    {
      "cell_type": "code",
      "metadata": {
        "id": "2DRvFDD9c5xk",
        "collapsed": true,
        "outputId": "2e7fa9fc-bfe3-4932-e9e2-6191d2f511e4"
      },
      "source": [
        "print(X_train)"
      ],
      "execution_count": null,
      "outputs": [
        {
          "output_type": "stream",
          "text": [
            "[[0.08162341 0.08780631 0.08730806 ... 0.11192644 0.11342121 0.11473479]\n",
            " [0.08780631 0.08730806 0.08377497 ... 0.11342121 0.11473479 0.12535671]\n",
            " [0.08730806 0.08377497 0.07709381 ... 0.11473479 0.12535671 0.12096299]\n",
            " ...\n",
            " [0.46947049 0.47187118 0.48258368 ... 0.53281696 0.53804865 0.55156951]\n",
            " [0.47187118 0.48258368 0.47644608 ... 0.53804865 0.55156951 0.56028899]\n",
            " [0.48258368 0.47644608 0.47936767 ... 0.55156951 0.56028899 0.55485347]]\n"
          ],
          "name": "stdout"
        }
      ]
    },
    {
      "cell_type": "code",
      "metadata": {
        "id": "llydeJcjc5xq",
        "collapsed": true,
        "outputId": "d96a1a1e-4ff4-452e-e0a8-a5011dfe4068"
      },
      "source": [
        "X_test.shape, ytest.shape"
      ],
      "execution_count": null,
      "outputs": [
        {
          "output_type": "execute_result",
          "data": {
            "text/plain": [
              "((606, 100), (606,))"
            ]
          },
          "metadata": {
            "tags": []
          },
          "execution_count": 23
        }
      ]
    },
    {
      "cell_type": "code",
      "metadata": {
        "id": "njliz_rzc5xu",
        "collapsed": true,
        "outputId": "f1a002e5-e397-407f-894a-ba13980bb572"
      },
      "source": [
        "X_train.shape, y_train.shape"
      ],
      "execution_count": null,
      "outputs": [
        {
          "output_type": "execute_result",
          "data": {
            "text/plain": [
              "((1211, 100), (1211,))"
            ]
          },
          "metadata": {
            "tags": []
          },
          "execution_count": 24
        }
      ]
    },
    {
      "cell_type": "code",
      "metadata": {
        "id": "2EoWp2--c5xx"
      },
      "source": [
        "X_train = X_train.reshape(X_train.shape[0], X_train.shape[1],1)\n",
        "X_test = X_test.reshape(X_test.shape[0], X_test.shape[1],1)"
      ],
      "execution_count": null,
      "outputs": []
    },
    {
      "cell_type": "code",
      "metadata": {
        "id": "0KfjQo1Dc5x1"
      },
      "source": [
        "from tensorflow.keras.models import Sequential\n",
        "from tensorflow.keras.layers import Dense\n",
        "from tensorflow.keras.layers import LSTM"
      ],
      "execution_count": null,
      "outputs": []
    },
    {
      "cell_type": "code",
      "metadata": {
        "id": "KD0eimelc5x4",
        "collapsed": true,
        "outputId": "9839c463-43b0-491a-a9cd-b15ccd0fa75a"
      },
      "source": [
        "model = Sequential()\n",
        "model.add(LSTM(50, return_sequences=True, input_shape=(100,1)))\n",
        "model.add(LSTM(50, return_sequences=True))\n",
        "model.add(LSTM(50))\n",
        "model.add(Dense(1))\n",
        "model.compile(loss='mean_squared_error', optimizer='adam')"
      ],
      "execution_count": null,
      "outputs": [
        {
          "output_type": "stream",
          "text": [
            "WARNING:tensorflow:From C:\\Users\\Naman Shah\\Anaconda3\\envs\\naman\\lib\\site-packages\\tensorflow_core\\python\\ops\\resource_variable_ops.py:1630: calling BaseResourceVariable.__init__ (from tensorflow.python.ops.resource_variable_ops) with constraint is deprecated and will be removed in a future version.\n",
            "Instructions for updating:\n",
            "If using Keras pass *_constraint arguments to layers.\n"
          ],
          "name": "stdout"
        }
      ]
    },
    {
      "cell_type": "code",
      "metadata": {
        "id": "v9d3TrKKc5x9",
        "collapsed": true,
        "outputId": "6ce77831-1b86-4e75-d67d-f137e549acfd"
      },
      "source": [
        "model.summary()"
      ],
      "execution_count": null,
      "outputs": [
        {
          "output_type": "stream",
          "text": [
            "Model: \"sequential\"\n",
            "_________________________________________________________________\n",
            "Layer (type)                 Output Shape              Param #   \n",
            "=================================================================\n",
            "lstm (LSTM)                  (None, 100, 50)           10400     \n",
            "_________________________________________________________________\n",
            "lstm_1 (LSTM)                (None, 100, 50)           20200     \n",
            "_________________________________________________________________\n",
            "lstm_2 (LSTM)                (None, 50)                20200     \n",
            "_________________________________________________________________\n",
            "dense (Dense)                (None, 1)                 51        \n",
            "=================================================================\n",
            "Total params: 50,851\n",
            "Trainable params: 50,851\n",
            "Non-trainable params: 0\n",
            "_________________________________________________________________\n"
          ],
          "name": "stdout"
        }
      ]
    },
    {
      "cell_type": "markdown",
      "metadata": {
        "id": "IZnUaUNHc5yC"
      },
      "source": [
        "X_train[:100]"
      ]
    },
    {
      "cell_type": "code",
      "metadata": {
        "colab": {
          "background_save": true
        },
        "id": "WrGs2erQc5yL"
      },
      "source": [
        "model.fit(X_train, y_train, validation_data = (X_test, ytest), epochs=100, batch_size=64, verbose=1)"
      ],
      "execution_count": null,
      "outputs": []
    },
    {
      "cell_type": "code",
      "metadata": {
        "id": "7Y4fMLAf_6Iw"
      },
      "source": [
        ""
      ],
      "execution_count": null,
      "outputs": []
    },
    {
      "cell_type": "code",
      "metadata": {
        "id": "nptBiAMM_6Pt"
      },
      "source": [
        ""
      ],
      "execution_count": null,
      "outputs": []
    },
    {
      "cell_type": "code",
      "metadata": {
        "id": "e4QSkLqi_6Vl"
      },
      "source": [
        ""
      ],
      "execution_count": null,
      "outputs": []
    },
    {
      "cell_type": "code",
      "metadata": {
        "id": "rvYQNXsm_6dS"
      },
      "source": [
        ""
      ],
      "execution_count": null,
      "outputs": []
    },
    {
      "cell_type": "code",
      "metadata": {
        "id": "1e_B9c35_6lT"
      },
      "source": [
        ""
      ],
      "execution_count": null,
      "outputs": []
    },
    {
      "cell_type": "code",
      "metadata": {
        "id": "hmZeMk7I_6uV"
      },
      "source": [
        ""
      ],
      "execution_count": null,
      "outputs": []
    },
    {
      "cell_type": "code",
      "metadata": {
        "id": "hdDUra0o_62W"
      },
      "source": [
        ""
      ],
      "execution_count": null,
      "outputs": []
    },
    {
      "cell_type": "markdown",
      "metadata": {
        "id": "F2H8HCHK_69-"
      },
      "source": [
        "Making a time series forecasting with the Help of ARIMA Model. \r\n",
        "\r\n",
        "more about ARIMA Model can be found out at: https://www.machinelearningplus.com/time-series/arima-model-time-series-forecasting-python/\r\n",
        "\r\n",
        "\r\n",
        "ARIMA, short for ‘AutoRegressive Integrated Moving Average’, is a forecasting algorithm based on the idea that the information in the past values of the time series can alone be used to predict the future values."
      ]
    },
    {
      "cell_type": "code",
      "metadata": {
        "id": "tHIjabZzjlYW"
      },
      "source": [
        ""
      ],
      "execution_count": null,
      "outputs": []
    },
    {
      "cell_type": "code",
      "metadata": {
        "id": "bPvSMpW7jlui"
      },
      "source": [
        ""
      ],
      "execution_count": null,
      "outputs": []
    },
    {
      "cell_type": "code",
      "metadata": {
        "colab": {
          "base_uri": "https://localhost:8080/"
        },
        "id": "JT5VGYYKAF97",
        "outputId": "6320e6b0-b1a2-4db7-b7b2-56ee75600f7b"
      },
      "source": [
        "!pip install pmdarima"
      ],
      "execution_count": null,
      "outputs": [
        {
          "output_type": "stream",
          "text": [
            "Collecting pmdarima\n",
            "\u001b[?25l  Downloading https://files.pythonhosted.org/packages/e4/a8/bdf15174e35d072e145d16388b1d3bc7605b752610170cb022a290411427/pmdarima-1.8.0-cp37-cp37m-manylinux1_x86_64.whl (1.5MB)\n",
            "\u001b[K     |████████████████████████████████| 1.5MB 5.7MB/s \n",
            "\u001b[?25hRequirement already satisfied: urllib3 in /usr/local/lib/python3.7/dist-packages (from pmdarima) (1.24.3)\n",
            "Collecting Cython<0.29.18,>=0.29\n",
            "\u001b[?25l  Downloading https://files.pythonhosted.org/packages/dc/6c/198da24bf0a1d5b5ee6119e891c5300bb1b0b8904832fac9ff62d4e381c9/Cython-0.29.17-cp37-cp37m-manylinux1_x86_64.whl (2.1MB)\n",
            "\u001b[K     |████████████████████████████████| 2.1MB 24.7MB/s \n",
            "\u001b[?25hCollecting statsmodels!=0.12.0,>=0.11\n",
            "\u001b[?25l  Downloading https://files.pythonhosted.org/packages/da/69/8eef30a6237c54f3c0b524140e2975f4b1eea3489b45eb3339574fc8acee/statsmodels-0.12.2-cp37-cp37m-manylinux1_x86_64.whl (9.5MB)\n",
            "\u001b[K     |████████████████████████████████| 9.5MB 41.9MB/s \n",
            "\u001b[?25hRequirement already satisfied: scikit-learn>=0.22 in /usr/local/lib/python3.7/dist-packages (from pmdarima) (0.22.2.post1)\n",
            "Requirement already satisfied: scipy>=1.3.2 in /usr/local/lib/python3.7/dist-packages (from pmdarima) (1.4.1)\n",
            "Requirement already satisfied: joblib>=0.11 in /usr/local/lib/python3.7/dist-packages (from pmdarima) (1.0.1)\n",
            "Requirement already satisfied: setuptools!=50.0.0,>=38.6.0 in /usr/local/lib/python3.7/dist-packages (from pmdarima) (54.0.0)\n",
            "Requirement already satisfied: numpy>=1.17.3 in /usr/local/lib/python3.7/dist-packages (from pmdarima) (1.19.5)\n",
            "Requirement already satisfied: pandas>=0.19 in /usr/local/lib/python3.7/dist-packages (from pmdarima) (1.1.5)\n",
            "Requirement already satisfied: patsy>=0.5 in /usr/local/lib/python3.7/dist-packages (from statsmodels!=0.12.0,>=0.11->pmdarima) (0.5.1)\n",
            "Requirement already satisfied: pytz>=2017.2 in /usr/local/lib/python3.7/dist-packages (from pandas>=0.19->pmdarima) (2018.9)\n",
            "Requirement already satisfied: python-dateutil>=2.7.3 in /usr/local/lib/python3.7/dist-packages (from pandas>=0.19->pmdarima) (2.8.1)\n",
            "Requirement already satisfied: six in /usr/local/lib/python3.7/dist-packages (from patsy>=0.5->statsmodels!=0.12.0,>=0.11->pmdarima) (1.15.0)\n",
            "Installing collected packages: Cython, statsmodels, pmdarima\n",
            "  Found existing installation: Cython 0.29.22\n",
            "    Uninstalling Cython-0.29.22:\n",
            "      Successfully uninstalled Cython-0.29.22\n",
            "  Found existing installation: statsmodels 0.10.2\n",
            "    Uninstalling statsmodels-0.10.2:\n",
            "      Successfully uninstalled statsmodels-0.10.2\n",
            "Successfully installed Cython-0.29.17 pmdarima-1.8.0 statsmodels-0.12.2\n"
          ],
          "name": "stdout"
        }
      ]
    },
    {
      "cell_type": "code",
      "metadata": {
        "id": "ka9rJI7C_7Gc"
      },
      "source": [
        "import warnings\r\n",
        "import itertools\r\n",
        "import numpy as np\r\n",
        "import matplotlib.pyplot as plt\r\n",
        "warnings.filterwarnings(\"ignore\")\r\n",
        "plt.style.use('fivethirtyeight')\r\n",
        "import pandas as pd\r\n",
        "import statsmodels.api as sm\r\n",
        "import matplotlib"
      ],
      "execution_count": null,
      "outputs": []
    },
    {
      "cell_type": "code",
      "metadata": {
        "colab": {
          "base_uri": "https://localhost:8080/",
          "height": 431
        },
        "id": "2plreeZm_-_O",
        "outputId": "5cbfcd5d-f79a-49b3-f991-7f581af9fee8"
      },
      "source": [
        "df = pd.read_csv('/content/hdfc_data.csv')\r\n",
        "df = df[['Date', 'Close']]\r\n",
        "df.index = df['Date']\r\n",
        "df.index = pd.to_datetime(df.index)\r\n",
        "df.drop(['Date'], axis=1)"
      ],
      "execution_count": null,
      "outputs": [
        {
          "output_type": "execute_result",
          "data": {
            "text/html": [
              "<div>\n",
              "<style scoped>\n",
              "    .dataframe tbody tr th:only-of-type {\n",
              "        vertical-align: middle;\n",
              "    }\n",
              "\n",
              "    .dataframe tbody tr th {\n",
              "        vertical-align: top;\n",
              "    }\n",
              "\n",
              "    .dataframe thead th {\n",
              "        text-align: right;\n",
              "    }\n",
              "</style>\n",
              "<table border=\"1\" class=\"dataframe\">\n",
              "  <thead>\n",
              "    <tr style=\"text-align: right;\">\n",
              "      <th></th>\n",
              "      <th>Close</th>\n",
              "    </tr>\n",
              "    <tr>\n",
              "      <th>Date</th>\n",
              "      <th></th>\n",
              "    </tr>\n",
              "  </thead>\n",
              "  <tbody>\n",
              "    <tr>\n",
              "      <th>2013-01-01</th>\n",
              "      <td>832.95</td>\n",
              "    </tr>\n",
              "    <tr>\n",
              "      <th>2013-01-02</th>\n",
              "      <td>846.60</td>\n",
              "    </tr>\n",
              "    <tr>\n",
              "      <th>2013-01-03</th>\n",
              "      <td>845.50</td>\n",
              "    </tr>\n",
              "    <tr>\n",
              "      <th>2013-01-04</th>\n",
              "      <td>837.70</td>\n",
              "    </tr>\n",
              "    <tr>\n",
              "      <th>2013-01-07</th>\n",
              "      <td>822.95</td>\n",
              "    </tr>\n",
              "    <tr>\n",
              "      <th>...</th>\n",
              "      <td>...</td>\n",
              "    </tr>\n",
              "    <tr>\n",
              "      <th>2021-02-24</th>\n",
              "      <td>2707.75</td>\n",
              "    </tr>\n",
              "    <tr>\n",
              "      <th>2021-02-25</th>\n",
              "      <td>2684.70</td>\n",
              "    </tr>\n",
              "    <tr>\n",
              "      <th>2021-02-26</th>\n",
              "      <td>2539.40</td>\n",
              "    </tr>\n",
              "    <tr>\n",
              "      <th>2021-03-01</th>\n",
              "      <td>2606.00</td>\n",
              "    </tr>\n",
              "    <tr>\n",
              "      <th>2021-03-02</th>\n",
              "      <td>2564.00</td>\n",
              "    </tr>\n",
              "  </tbody>\n",
              "</table>\n",
              "<p>2022 rows × 1 columns</p>\n",
              "</div>"
            ],
            "text/plain": [
              "              Close\n",
              "Date               \n",
              "2013-01-01   832.95\n",
              "2013-01-02   846.60\n",
              "2013-01-03   845.50\n",
              "2013-01-04   837.70\n",
              "2013-01-07   822.95\n",
              "...             ...\n",
              "2021-02-24  2707.75\n",
              "2021-02-25  2684.70\n",
              "2021-02-26  2539.40\n",
              "2021-03-01  2606.00\n",
              "2021-03-02  2564.00\n",
              "\n",
              "[2022 rows x 1 columns]"
            ]
          },
          "metadata": {
            "tags": []
          },
          "execution_count": 3
        }
      ]
    },
    {
      "cell_type": "code",
      "metadata": {
        "colab": {
          "base_uri": "https://localhost:8080/"
        },
        "id": "UCHy7-Ez__HC",
        "outputId": "6d3c19f5-1f44-45df-9b18-bdb273c7a657"
      },
      "source": [
        "\r\n",
        "from statsmodels.tsa.stattools import adfuller\r\n",
        "\r\n",
        "def ad_test(dataset):\r\n",
        "\tdftest = adfuller(dataset, autolag='AIC')\r\n",
        "\tprint(\"1. ADF \", dftest[0])\r\n",
        "\tprint(\"2. P value: \", dftest[1])\r\n",
        "\tprint(\"3. Num of Lags : \", dftest[2])\r\n",
        "\tprint(\"4. Num of obs used for adf regression and critical values Calculation: \", dftest[3])\r\n",
        "\tprint(\"5. Critical Values: \", dftest[4])\r\n",
        "\r\n",
        "\tfor key, val in dftest[4].items():\r\n",
        "\t\tprint(\"\\t\", key, \" : \", val)\r\n",
        "\r\n",
        "\r\n",
        "\r\n",
        "ad_test(df.Close)\r\n",
        "\r\n"
      ],
      "execution_count": null,
      "outputs": [
        {
          "output_type": "stream",
          "text": [
            "1. ADF  -0.6315894243311091\n",
            "2. P value:  0.8636831759996213\n",
            "3. Num of Lags :  12\n",
            "4. Num of obs used for adf regression and critical values Calculation:  2009\n",
            "5. Critical Values:  {'1%': -3.4336091712699957, '5%': -2.862979729933645, '10%': -2.567536450078678}\n",
            "\t 1%  :  -3.4336091712699957\n",
            "\t 5%  :  -2.862979729933645\n",
            "\t 10%  :  -2.567536450078678\n"
          ],
          "name": "stdout"
        }
      ]
    },
    {
      "cell_type": "code",
      "metadata": {
        "colab": {
          "base_uri": "https://localhost:8080/",
          "height": 875
        },
        "id": "kQJv2ZsH__Nx",
        "outputId": "2e99a10e-9c19-4085-b428-23761c360bc0"
      },
      "source": [
        "\r\n",
        "from pmdarima import auto_arima\r\n",
        "import warnings\r\n",
        "warnings.filterwarnings(\"ignore\")\r\n",
        "\r\n",
        "\r\n",
        "stepwise_fir = auto_arima(df.Close, trace=True, supress_warnings=True, start_p = 4)\r\n",
        "stepwise_fir.summary()\r\n"
      ],
      "execution_count": null,
      "outputs": [
        {
          "output_type": "stream",
          "text": [
            "Performing stepwise search to minimize aic\n",
            " ARIMA(4,1,2)(0,0,0)[0] intercept   : AIC=19441.858, Time=5.45 sec\n",
            " ARIMA(0,1,0)(0,0,0)[0] intercept   : AIC=19485.433, Time=0.08 sec\n",
            " ARIMA(1,1,0)(0,0,0)[0] intercept   : AIC=19487.410, Time=0.10 sec\n",
            " ARIMA(0,1,1)(0,0,0)[0] intercept   : AIC=19487.407, Time=0.42 sec\n",
            " ARIMA(0,1,0)(0,0,0)[0]             : AIC=19485.081, Time=0.06 sec\n",
            " ARIMA(3,1,2)(0,0,0)[0] intercept   : AIC=19461.355, Time=4.83 sec\n",
            " ARIMA(4,1,1)(0,0,0)[0] intercept   : AIC=19464.447, Time=3.32 sec\n",
            " ARIMA(5,1,2)(0,0,0)[0] intercept   : AIC=19439.705, Time=6.46 sec\n",
            " ARIMA(5,1,1)(0,0,0)[0] intercept   : AIC=19456.306, Time=3.64 sec\n",
            " ARIMA(5,1,3)(0,0,0)[0] intercept   : AIC=19442.169, Time=7.34 sec\n",
            " ARIMA(4,1,3)(0,0,0)[0] intercept   : AIC=inf, Time=5.43 sec\n",
            " ARIMA(5,1,2)(0,0,0)[0]             : AIC=19439.048, Time=2.97 sec\n",
            " ARIMA(4,1,2)(0,0,0)[0]             : AIC=19441.175, Time=2.25 sec\n",
            " ARIMA(5,1,1)(0,0,0)[0]             : AIC=19456.307, Time=1.16 sec\n",
            " ARIMA(5,1,3)(0,0,0)[0]             : AIC=19440.968, Time=3.65 sec\n",
            " ARIMA(4,1,1)(0,0,0)[0]             : AIC=19464.794, Time=1.04 sec\n",
            " ARIMA(4,1,3)(0,0,0)[0]             : AIC=inf, Time=4.39 sec\n",
            "\n",
            "Best model:  ARIMA(5,1,2)(0,0,0)[0]          \n",
            "Total fit time: 52.643 seconds\n"
          ],
          "name": "stdout"
        },
        {
          "output_type": "execute_result",
          "data": {
            "text/html": [
              "<table class=\"simpletable\">\n",
              "<caption>SARIMAX Results</caption>\n",
              "<tr>\n",
              "  <th>Dep. Variable:</th>           <td>y</td>        <th>  No. Observations:  </th>   <td>2022</td>   \n",
              "</tr>\n",
              "<tr>\n",
              "  <th>Model:</th>           <td>SARIMAX(5, 1, 2)</td> <th>  Log Likelihood     </th> <td>-9711.524</td>\n",
              "</tr>\n",
              "<tr>\n",
              "  <th>Date:</th>            <td>Wed, 03 Mar 2021</td> <th>  AIC                </th> <td>19439.048</td>\n",
              "</tr>\n",
              "<tr>\n",
              "  <th>Time:</th>                <td>17:01:20</td>     <th>  BIC                </th> <td>19483.939</td>\n",
              "</tr>\n",
              "<tr>\n",
              "  <th>Sample:</th>                  <td>0</td>        <th>  HQIC               </th> <td>19455.522</td>\n",
              "</tr>\n",
              "<tr>\n",
              "  <th></th>                      <td> - 2022</td>     <th>                     </th>     <td> </td>    \n",
              "</tr>\n",
              "<tr>\n",
              "  <th>Covariance Type:</th>        <td>opg</td>       <th>                     </th>     <td> </td>    \n",
              "</tr>\n",
              "</table>\n",
              "<table class=\"simpletable\">\n",
              "<tr>\n",
              "     <td></td>       <th>coef</th>     <th>std err</th>      <th>z</th>      <th>P>|z|</th>  <th>[0.025</th>    <th>0.975]</th>  \n",
              "</tr>\n",
              "<tr>\n",
              "  <th>ar.L1</th>  <td>   -1.4584</td> <td>    0.034</td> <td>  -42.955</td> <td> 0.000</td> <td>   -1.525</td> <td>   -1.392</td>\n",
              "</tr>\n",
              "<tr>\n",
              "  <th>ar.L2</th>  <td>   -0.8828</td> <td>    0.038</td> <td>  -23.456</td> <td> 0.000</td> <td>   -0.957</td> <td>   -0.809</td>\n",
              "</tr>\n",
              "<tr>\n",
              "  <th>ar.L3</th>  <td>   -0.1613</td> <td>    0.025</td> <td>   -6.326</td> <td> 0.000</td> <td>   -0.211</td> <td>   -0.111</td>\n",
              "</tr>\n",
              "<tr>\n",
              "  <th>ar.L4</th>  <td>   -0.2032</td> <td>    0.021</td> <td>   -9.587</td> <td> 0.000</td> <td>   -0.245</td> <td>   -0.162</td>\n",
              "</tr>\n",
              "<tr>\n",
              "  <th>ar.L5</th>  <td>   -0.0580</td> <td>    0.014</td> <td>   -4.076</td> <td> 0.000</td> <td>   -0.086</td> <td>   -0.030</td>\n",
              "</tr>\n",
              "<tr>\n",
              "  <th>ma.L1</th>  <td>    1.4712</td> <td>    0.031</td> <td>   46.964</td> <td> 0.000</td> <td>    1.410</td> <td>    1.533</td>\n",
              "</tr>\n",
              "<tr>\n",
              "  <th>ma.L2</th>  <td>    0.8391</td> <td>    0.028</td> <td>   30.112</td> <td> 0.000</td> <td>    0.784</td> <td>    0.894</td>\n",
              "</tr>\n",
              "<tr>\n",
              "  <th>sigma2</th> <td>  873.6100</td> <td>   13.373</td> <td>   65.326</td> <td> 0.000</td> <td>  847.399</td> <td>  899.821</td>\n",
              "</tr>\n",
              "</table>\n",
              "<table class=\"simpletable\">\n",
              "<tr>\n",
              "  <th>Ljung-Box (L1) (Q):</th>     <td>0.00</td> <th>  Jarque-Bera (JB):  </th> <td>6175.80</td>\n",
              "</tr>\n",
              "<tr>\n",
              "  <th>Prob(Q):</th>                <td>0.99</td> <th>  Prob(JB):          </th>  <td>0.00</td>  \n",
              "</tr>\n",
              "<tr>\n",
              "  <th>Heteroskedasticity (H):</th> <td>5.31</td> <th>  Skew:              </th>  <td>-0.27</td> \n",
              "</tr>\n",
              "<tr>\n",
              "  <th>Prob(H) (two-sided):</th>    <td>0.00</td> <th>  Kurtosis:          </th>  <td>11.55</td> \n",
              "</tr>\n",
              "</table><br/><br/>Warnings:<br/>[1] Covariance matrix calculated using the outer product of gradients (complex-step)."
            ],
            "text/plain": [
              "<class 'statsmodels.iolib.summary.Summary'>\n",
              "\"\"\"\n",
              "                               SARIMAX Results                                \n",
              "==============================================================================\n",
              "Dep. Variable:                      y   No. Observations:                 2022\n",
              "Model:               SARIMAX(5, 1, 2)   Log Likelihood               -9711.524\n",
              "Date:                Wed, 03 Mar 2021   AIC                          19439.048\n",
              "Time:                        17:01:20   BIC                          19483.939\n",
              "Sample:                             0   HQIC                         19455.522\n",
              "                               - 2022                                         \n",
              "Covariance Type:                  opg                                         \n",
              "==============================================================================\n",
              "                 coef    std err          z      P>|z|      [0.025      0.975]\n",
              "------------------------------------------------------------------------------\n",
              "ar.L1         -1.4584      0.034    -42.955      0.000      -1.525      -1.392\n",
              "ar.L2         -0.8828      0.038    -23.456      0.000      -0.957      -0.809\n",
              "ar.L3         -0.1613      0.025     -6.326      0.000      -0.211      -0.111\n",
              "ar.L4         -0.2032      0.021     -9.587      0.000      -0.245      -0.162\n",
              "ar.L5         -0.0580      0.014     -4.076      0.000      -0.086      -0.030\n",
              "ma.L1          1.4712      0.031     46.964      0.000       1.410       1.533\n",
              "ma.L2          0.8391      0.028     30.112      0.000       0.784       0.894\n",
              "sigma2       873.6100     13.373     65.326      0.000     847.399     899.821\n",
              "===================================================================================\n",
              "Ljung-Box (L1) (Q):                   0.00   Jarque-Bera (JB):              6175.80\n",
              "Prob(Q):                              0.99   Prob(JB):                         0.00\n",
              "Heteroskedasticity (H):               5.31   Skew:                            -0.27\n",
              "Prob(H) (two-sided):                  0.00   Kurtosis:                        11.55\n",
              "===================================================================================\n",
              "\n",
              "Warnings:\n",
              "[1] Covariance matrix calculated using the outer product of gradients (complex-step).\n",
              "\"\"\""
            ]
          },
          "metadata": {
            "tags": []
          },
          "execution_count": 5
        }
      ]
    },
    {
      "cell_type": "code",
      "metadata": {
        "colab": {
          "base_uri": "https://localhost:8080/"
        },
        "id": "0Gh5qJr1__es",
        "outputId": "b1bb866d-14b2-4a85-c3a2-1005dedfdde2"
      },
      "source": [
        "\r\n",
        "\r\n",
        "\r\n",
        "from statsmodels.tsa.arima_model import ARIMA\r\n",
        "\r\n",
        "\r\n",
        "print(df.shape)\r\n",
        "train=df.iloc[:-30]\r\n",
        "test = df.iloc[-30:]\r\n",
        "print(train.shape, test.shape)\r\n",
        "model = ARIMA(train.Close, order=(5,1,2))\r\n",
        "model = model.fit()\r\n",
        "print(model.summary())\r\n"
      ],
      "execution_count": null,
      "outputs": [
        {
          "output_type": "stream",
          "text": [
            "(2022, 2)\n",
            "(1992, 2) (30, 2)\n",
            "                             ARIMA Model Results                              \n",
            "==============================================================================\n",
            "Dep. Variable:                D.Close   No. Observations:                 1991\n",
            "Model:                 ARIMA(5, 1, 2)   Log Likelihood               -9501.212\n",
            "Method:                       css-mle   S.D. of innovations             28.591\n",
            "Date:                Wed, 03 Mar 2021   AIC                          19020.425\n",
            "Time:                        17:01:22   BIC                          19070.792\n",
            "Sample:                             1   HQIC                         19038.923\n",
            "                                                                              \n",
            "=================================================================================\n",
            "                    coef    std err          z      P>|z|      [0.025      0.975]\n",
            "---------------------------------------------------------------------------------\n",
            "const             0.8774      0.557      1.576      0.115      -0.214       1.968\n",
            "ar.L1.D.Close    -1.4443      0.077    -18.874      0.000      -1.594      -1.294\n",
            "ar.L2.D.Close    -0.8710      0.071    -12.202      0.000      -1.011      -0.731\n",
            "ar.L3.D.Close    -0.1730      0.044     -3.932      0.000      -0.259      -0.087\n",
            "ar.L4.D.Close    -0.2129      0.042     -5.110      0.000      -0.294      -0.131\n",
            "ar.L5.D.Close    -0.0578      0.030     -1.945      0.052      -0.116       0.000\n",
            "ma.L1.D.Close     1.4498      0.073     19.887      0.000       1.307       1.593\n",
            "ma.L2.D.Close     0.8153      0.060     13.657      0.000       0.698       0.932\n",
            "                                    Roots                                    \n",
            "=============================================================================\n",
            "                  Real          Imaginary           Modulus         Frequency\n",
            "-----------------------------------------------------------------------------\n",
            "AR.1           -0.8620           -0.6127j            1.0576           -0.4017\n",
            "AR.2           -0.8620           +0.6127j            1.0576            0.4017\n",
            "AR.3            0.8122           -1.9125j            2.0778           -0.1861\n",
            "AR.4            0.8122           +1.9125j            2.0778            0.1861\n",
            "AR.5           -3.5825           -0.0000j            3.5825           -0.5000\n",
            "MA.1           -0.8891           -0.6603j            1.1075           -0.3983\n",
            "MA.2           -0.8891           +0.6603j            1.1075            0.3983\n",
            "-----------------------------------------------------------------------------\n"
          ],
          "name": "stdout"
        }
      ]
    },
    {
      "cell_type": "code",
      "metadata": {
        "colab": {
          "base_uri": "https://localhost:8080/",
          "height": 846
        },
        "id": "AvrsY2-___mW",
        "outputId": "ee9507e4-406b-41cf-a297-35344709afa0"
      },
      "source": [
        "\r\n",
        "start = len(train)\r\n",
        "end = len(train)+ len(test) -1\r\n",
        "pred = model.predict(start=start, end=end, typ=\"levels\")\r\n",
        "# print(pred)\r\n",
        "# pred.index = df.index[start:end+1]\r\n",
        "pred.plot(legend=True)\r\n",
        "print(test)\r\n",
        "# test['Close'].plot()\r\n",
        "# plt.show()\r\n"
      ],
      "execution_count": null,
      "outputs": [
        {
          "output_type": "stream",
          "text": [
            "                  Date    Close\n",
            "Date                           \n",
            "2021-01-19  2021-01-19  2656.95\n",
            "2021-01-20  2021-01-20  2688.15\n",
            "2021-01-21  2021-01-21  2663.00\n",
            "2021-01-22  2021-01-22  2589.45\n",
            "2021-01-25  2021-01-25  2551.40\n",
            "2021-01-27  2021-01-27  2467.00\n",
            "2021-01-28  2021-01-28  2425.75\n",
            "2021-01-29  2021-01-29  2377.80\n",
            "2021-02-01  2021-02-01  2579.25\n",
            "2021-02-02  2021-02-02  2659.00\n",
            "2021-02-03  2021-02-03  2703.55\n",
            "2021-02-04  2021-02-04  2707.75\n",
            "2021-02-05  2021-02-05  2721.50\n",
            "2021-02-08  2021-02-08  2733.35\n",
            "2021-02-09  2021-02-09  2747.05\n",
            "2021-02-10  2021-02-10  2767.10\n",
            "2021-02-11  2021-02-11  2760.60\n",
            "2021-02-12  2021-02-12  2791.50\n",
            "2021-02-15  2021-02-15  2860.45\n",
            "2021-02-16  2021-02-16  2858.65\n",
            "2021-02-17  2021-02-17  2805.35\n",
            "2021-02-18  2021-02-18  2745.15\n",
            "2021-02-19  2021-02-19  2741.30\n",
            "2021-02-22  2021-02-22  2651.95\n",
            "2021-02-23  2021-02-23  2628.60\n",
            "2021-02-24  2021-02-24  2707.75\n",
            "2021-02-25  2021-02-25  2684.70\n",
            "2021-02-26  2021-02-26  2539.40\n",
            "2021-03-01  2021-03-01  2606.00\n",
            "2021-03-02  2021-03-02  2564.00\n"
          ],
          "name": "stdout"
        },
        {
          "output_type": "display_data",
          "data": {
            "image/png": "[encoded data removed]",
            "text/plain": [
              "<Figure size 432x288 with 1 Axes>"
            ]
          },
          "metadata": {
            "tags": []
          }
        }
      ]
    },
    {
      "cell_type": "code",
      "metadata": {
        "colab": {
          "base_uri": "https://localhost:8080/"
        },
        "id": "1PL512MWAAvS",
        "outputId": "a0b37981-a5f4-4941-ab63-cdae585c5ef4"
      },
      "source": [
        "\r\n",
        "print(test.Close.mean())\r\n",
        "from sklearn.metrics import mean_squared_error\r\n",
        "from math import sqrt\r\n",
        "rmse=sqrt(mean_squared_error(pred, test.Close))\r\n",
        "print(\"The rmse is \", rmse)\r\n"
      ],
      "execution_count": null,
      "outputs": [
        {
          "output_type": "stream",
          "text": [
            "2666.1149999999993\n",
            "The rmse is  135.13436449388334\n"
          ],
          "name": "stdout"
        }
      ]
    },
    {
      "cell_type": "code",
      "metadata": {
        "colab": {
          "base_uri": "https://localhost:8080/"
        },
        "id": "dMSzBWPUCfH4",
        "outputId": "f575fc25-4964-4952-dccb-62f55322d90a"
      },
      "source": [
        "\r\n",
        "print(type(df.Close))\r\n",
        "model2 = ARIMA(df.Close, order=(5,1,2))\r\n",
        "model2 = model2.fit()\r\n",
        "print(df.tail())\r\n",
        "\r\n"
      ],
      "execution_count": null,
      "outputs": [
        {
          "output_type": "stream",
          "text": [
            "<class 'pandas.core.series.Series'>\n",
            "                  Date    Close\n",
            "Date                           \n",
            "2021-02-24  2021-02-24  2707.75\n",
            "2021-02-25  2021-02-25  2684.70\n",
            "2021-02-26  2021-02-26  2539.40\n",
            "2021-03-01  2021-03-01  2606.00\n",
            "2021-03-02  2021-03-02  2564.00\n"
          ],
          "name": "stdout"
        }
      ]
    },
    {
      "cell_type": "code",
      "metadata": {
        "colab": {
          "base_uri": "https://localhost:8080/",
          "height": 473
        },
        "id": "Cho9wfH4AA4S",
        "outputId": "a3226547-6eb7-4c6a-d2d4-9f307a387206"
      },
      "source": [
        "\r\n",
        "\r\n",
        "import datetime as dt\r\n",
        "# Future dates\r\n",
        "index_future_dates = pd.date_range(start = dt.datetime.now() , end=dt.datetime.now() + dt.timedelta(days=10))\r\n",
        "\r\n",
        "print(index_future_dates)\r\n",
        "pred = model2.predict(start=len(df), end=len(df)+10, typ='levels').rename('ARIMA PREDICTIONS')\r\n",
        "\r\n",
        "pred.index = index_future_dates\r\n",
        "pred.plot(figsize=(12,5), legend =True)\r\n"
      ],
      "execution_count": null,
      "outputs": [
        {
          "output_type": "stream",
          "text": [
            "DatetimeIndex(['2021-03-03 17:02:06.795622', '2021-03-04 17:02:06.795622',\n",
            "               '2021-03-05 17:02:06.795622', '2021-03-06 17:02:06.795622',\n",
            "               '2021-03-07 17:02:06.795622', '2021-03-08 17:02:06.795622',\n",
            "               '2021-03-09 17:02:06.795622', '2021-03-10 17:02:06.795622',\n",
            "               '2021-03-11 17:02:06.795622', '2021-03-12 17:02:06.795622',\n",
            "               '2021-03-13 17:02:06.795622'],\n",
            "              dtype='datetime64[ns]', freq='D')\n"
          ],
          "name": "stdout"
        },
        {
          "output_type": "execute_result",
          "data": {
            "text/plain": [
              "<matplotlib.axes._subplots.AxesSubplot at 0x7fdc870e68d0>"
            ]
          },
          "metadata": {
            "tags": []
          },
          "execution_count": 11
        },
        {
          "output_type": "display_data",
          "data": {
            "image/png": "[encoded data removed]",
            "text/plain": [
              "<Figure size 864x360 with 1 Axes>"
            ]
          },
          "metadata": {
            "tags": []
          }
        }
      ]
    },
    {
      "cell_type": "code",
      "metadata": {
        "id": "V9CAk58tCulz"
      },
      "source": [
        "model2.save('model_22.pkl')"
      ],
      "execution_count": null,
      "outputs": []
    },
    {
      "cell_type": "code",
      "metadata": {
        "id": "B26Zq3JiDY2E"
      },
      "source": [
        "from statsmodels.tsa.arima_model import ARIMAResults"
      ],
      "execution_count": null,
      "outputs": []
    },
    {
      "cell_type": "code",
      "metadata": {
        "colab": {
          "base_uri": "https://localhost:8080/",
          "height": 218
        },
        "id": "l9tdqGdFABBQ",
        "outputId": "b8a1c644-8ad9-41b0-c848-726684195303"
      },
      "source": [
        "loaded = ARIMAResults.load('model_22.pkl')\r\n",
        "index_future_dates = pd.date_range(start = dt.datetime.now() , end=dt.datetime.now() + dt.timedelta(days=20))\r\n",
        "\r\n",
        "pred = loaded.predict(start=len(df), end=len(df)+20, typ='levels').rename('ARIMA PREDICTIONS')\r\n",
        "\r\n",
        "pred.index = index_future_dates\r\n",
        "pred.plot(figsize=(30,5), legend =True)"
      ],
      "execution_count": null,
      "outputs": [
        {
          "output_type": "execute_result",
          "data": {
            "text/plain": [
              "<matplotlib.axes._subplots.AxesSubplot at 0x7fdc86e09250>"
            ]
          },
          "metadata": {
            "tags": []
          },
          "execution_count": 22
        },
        {
          "output_type": "display_data",
          "data": {
            "image/png": "[encoded data removed]",
            "text/plain": [
              "<Figure size 2160x360 with 1 Axes>"
            ]
          },
          "metadata": {
            "tags": []
          }
        }
      ]
    }
  ]
}