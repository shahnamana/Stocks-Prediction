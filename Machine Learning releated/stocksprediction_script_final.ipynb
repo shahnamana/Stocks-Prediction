{
  "nbformat": 4,
  "nbformat_minor": 0,
  "metadata": {
    "colab": {
      "name": "stocksprediction_script.ipynb",
      "provenance": [],
      "collapsed_sections": []
    },
    "kernelspec": {
      "display_name": "Python 3",
      "language": "python",
      "name": "python3"
    },
    "language_info": {
      "codemirror_mode": {
        "name": "ipython",
        "version": 3
      },
      "file_extension": ".py",
      "mimetype": "text/x-python",
      "name": "python",
      "nbconvert_exporter": "python",
      "pygments_lexer": "ipython3",
      "version": "3.6.12"
    }
  },
  "cells": [
    {
      "cell_type": "code",
      "metadata": {
        "id": "rvYQNXsm_6dS"
      },
      "source": [
        ""
      ],
      "execution_count": null,
      "outputs": []
    },
    {
      "cell_type": "code",
      "metadata": {
        "id": "1e_B9c35_6lT"
      },
      "source": [
        ""
      ],
      "execution_count": null,
      "outputs": []
    },
    {
      "cell_type": "code",
      "metadata": {
        "id": "hmZeMk7I_6uV"
      },
      "source": [
        ""
      ],
      "execution_count": null,
      "outputs": []
    },
    {
      "cell_type": "code",
      "metadata": {
        "id": "hdDUra0o_62W"
      },
      "source": [
        ""
      ],
      "execution_count": null,
      "outputs": []
    },
    {
      "cell_type": "markdown",
      "metadata": {
        "id": "F2H8HCHK_69-"
      },
      "source": [
        "Making a time series forecasting with the Help of ARIMA Model. \n",
        "\n",
        "more about ARIMA Model can be found out at: https://www.machinelearningplus.com/time-series/arima-model-time-series-forecasting-python/\n",
        "\n",
        "\n",
        "ARIMA, short for ‘AutoRegressive Integrated Moving Average’, is a forecasting algorithm based on the idea that the information in the past values of the time series can alone be used to predict the future values."
      ]
    },
    {
      "cell_type": "code",
      "metadata": {
        "id": "tHIjabZzjlYW"
      },
      "source": [
        ""
      ],
      "execution_count": null,
      "outputs": []
    },
    {
      "cell_type": "code",
      "metadata": {
        "id": "bPvSMpW7jlui"
      },
      "source": [
        ""
      ],
      "execution_count": null,
      "outputs": []
    },
    {
      "cell_type": "code",
      "metadata": {
        "colab": {
          "base_uri": "https://localhost:8080/"
        },
        "id": "JT5VGYYKAF97",
        "outputId": "f20e53bc-cadc-4ba6-8181-6f8bdf0a6a07"
      },
      "source": [
        "!pip install pmdarima\n",
        "!pip install nsepy"
      ],
      "execution_count": 1,
      "outputs": [
        {
          "output_type": "stream",
          "text": [
            "Collecting pmdarima\n",
            "\u001b[?25l  Downloading https://files.pythonhosted.org/packages/e4/a8/bdf15174e35d072e145d16388b1d3bc7605b752610170cb022a290411427/pmdarima-1.8.0-cp37-cp37m-manylinux1_x86_64.whl (1.5MB)\n",
            "\u001b[K     |████████████████████████████████| 1.5MB 5.9MB/s \n",
            "\u001b[?25hRequirement already satisfied: numpy>=1.17.3 in /usr/local/lib/python3.7/dist-packages (from pmdarima) (1.19.5)\n",
            "Requirement already satisfied: setuptools!=50.0.0,>=38.6.0 in /usr/local/lib/python3.7/dist-packages (from pmdarima) (54.1.2)\n",
            "Requirement already satisfied: joblib>=0.11 in /usr/local/lib/python3.7/dist-packages (from pmdarima) (1.0.1)\n",
            "Collecting Cython<0.29.18,>=0.29\n",
            "\u001b[?25l  Downloading https://files.pythonhosted.org/packages/dc/6c/198da24bf0a1d5b5ee6119e891c5300bb1b0b8904832fac9ff62d4e381c9/Cython-0.29.17-cp37-cp37m-manylinux1_x86_64.whl (2.1MB)\n",
            "\u001b[K     |████████████████████████████████| 2.1MB 32.1MB/s \n",
            "\u001b[?25hRequirement already satisfied: scikit-learn>=0.22 in /usr/local/lib/python3.7/dist-packages (from pmdarima) (0.22.2.post1)\n",
            "Collecting statsmodels!=0.12.0,>=0.11\n",
            "\u001b[?25l  Downloading https://files.pythonhosted.org/packages/da/69/8eef30a6237c54f3c0b524140e2975f4b1eea3489b45eb3339574fc8acee/statsmodels-0.12.2-cp37-cp37m-manylinux1_x86_64.whl (9.5MB)\n",
            "\u001b[K     |████████████████████████████████| 9.5MB 40.0MB/s \n",
            "\u001b[?25hRequirement already satisfied: scipy>=1.3.2 in /usr/local/lib/python3.7/dist-packages (from pmdarima) (1.4.1)\n",
            "Requirement already satisfied: pandas>=0.19 in /usr/local/lib/python3.7/dist-packages (from pmdarima) (1.1.5)\n",
            "Requirement already satisfied: urllib3 in /usr/local/lib/python3.7/dist-packages (from pmdarima) (1.24.3)\n",
            "Requirement already satisfied: patsy>=0.5 in /usr/local/lib/python3.7/dist-packages (from statsmodels!=0.12.0,>=0.11->pmdarima) (0.5.1)\n",
            "Requirement already satisfied: pytz>=2017.2 in /usr/local/lib/python3.7/dist-packages (from pandas>=0.19->pmdarima) (2018.9)\n",
            "Requirement already satisfied: python-dateutil>=2.7.3 in /usr/local/lib/python3.7/dist-packages (from pandas>=0.19->pmdarima) (2.8.1)\n",
            "Requirement already satisfied: six in /usr/local/lib/python3.7/dist-packages (from patsy>=0.5->statsmodels!=0.12.0,>=0.11->pmdarima) (1.15.0)\n",
            "Installing collected packages: Cython, statsmodels, pmdarima\n",
            "  Found existing installation: Cython 0.29.22\n",
            "    Uninstalling Cython-0.29.22:\n",
            "      Successfully uninstalled Cython-0.29.22\n",
            "  Found existing installation: statsmodels 0.10.2\n",
            "    Uninstalling statsmodels-0.10.2:\n",
            "      Successfully uninstalled statsmodels-0.10.2\n",
            "Successfully installed Cython-0.29.17 pmdarima-1.8.0 statsmodels-0.12.2\n",
            "Collecting nsepy\n",
            "  Downloading https://files.pythonhosted.org/packages/89/52/2e9f0de0c687ad181f17e0783319d31d66869c410793c5b94dc6cd4b3db2/nsepy-0.8.tar.gz\n",
            "Requirement already satisfied: beautifulsoup4 in /usr/local/lib/python3.7/dist-packages (from nsepy) (4.6.3)\n",
            "Requirement already satisfied: requests in /usr/local/lib/python3.7/dist-packages (from nsepy) (2.23.0)\n",
            "Requirement already satisfied: numpy in /usr/local/lib/python3.7/dist-packages (from nsepy) (1.19.5)\n",
            "Requirement already satisfied: pandas in /usr/local/lib/python3.7/dist-packages (from nsepy) (1.1.5)\n",
            "Requirement already satisfied: six in /usr/local/lib/python3.7/dist-packages (from nsepy) (1.15.0)\n",
            "Requirement already satisfied: click in /usr/local/lib/python3.7/dist-packages (from nsepy) (7.1.2)\n",
            "Requirement already satisfied: lxml in /usr/local/lib/python3.7/dist-packages (from nsepy) (4.2.6)\n",
            "Requirement already satisfied: chardet<4,>=3.0.2 in /usr/local/lib/python3.7/dist-packages (from requests->nsepy) (3.0.4)\n",
            "Requirement already satisfied: urllib3!=1.25.0,!=1.25.1,<1.26,>=1.21.1 in /usr/local/lib/python3.7/dist-packages (from requests->nsepy) (1.24.3)\n",
            "Requirement already satisfied: certifi>=2017.4.17 in /usr/local/lib/python3.7/dist-packages (from requests->nsepy) (2020.12.5)\n",
            "Requirement already satisfied: idna<3,>=2.5 in /usr/local/lib/python3.7/dist-packages (from requests->nsepy) (2.10)\n",
            "Requirement already satisfied: python-dateutil>=2.7.3 in /usr/local/lib/python3.7/dist-packages (from pandas->nsepy) (2.8.1)\n",
            "Requirement already satisfied: pytz>=2017.2 in /usr/local/lib/python3.7/dist-packages (from pandas->nsepy) (2018.9)\n",
            "Building wheels for collected packages: nsepy\n",
            "  Building wheel for nsepy (setup.py) ... \u001b[?25l\u001b[?25hdone\n",
            "  Created wheel for nsepy: filename=nsepy-0.8-cp37-none-any.whl size=36083 sha256=e9710bbb546e9a52e9f942266b393d06ec770dde2bad05e2926f04268ef53035\n",
            "  Stored in directory: /root/.cache/pip/wheels/05/2c/72/5324e267426eea65dec0c21a12a48b15887c0cf686c7a8fe11\n",
            "Successfully built nsepy\n",
            "Installing collected packages: nsepy\n",
            "Successfully installed nsepy-0.8\n"
          ],
          "name": "stdout"
        }
      ]
    },
    {
      "cell_type": "code",
      "metadata": {
        "id": "ka9rJI7C_7Gc"
      },
      "source": [
        "import warnings\n",
        "import itertools\n",
        "import numpy as np\n",
        "import matplotlib.pyplot as plt\n",
        "warnings.filterwarnings(\"ignore\")\n",
        "plt.style.use('fivethirtyeight')\n",
        "import pandas as pd\n",
        "import statsmodels.api as sm\n",
        "import matplotlib\n",
        "from nsepy import get_history\n",
        "import datetime"
      ],
      "execution_count": 2,
      "outputs": []
    },
    {
      "cell_type": "code",
      "metadata": {
        "id": "mRvthOp8arbU"
      },
      "source": [
        "sbin = get_history(symbol='SBIN',\n",
        "                    start=datetime.date(2015,1,1), \n",
        "                    end=datetime.date.today())\n",
        "sbin"
      ],
      "execution_count": null,
      "outputs": []
    },
    {
      "cell_type": "code",
      "metadata": {
        "colab": {
          "base_uri": "https://localhost:8080/"
        },
        "id": "NTwd6dRZlRtC",
        "outputId": "0513f252-482a-4aed-b541-b8cc8f4ae629"
      },
      "source": [
        "from google.colab import drive\n",
        "drive.mount('/content/drive')"
      ],
      "execution_count": 14,
      "outputs": [
        {
          "output_type": "stream",
          "text": [
            "Drive already mounted at /content/drive; to attempt to forcibly remount, call drive.mount(\"/content/drive\", force_remount=True).\n"
          ],
          "name": "stdout"
        }
      ]
    },
    {
      "cell_type": "code",
      "metadata": {
        "colab": {
          "base_uri": "https://localhost:8080/",
          "height": 431
        },
        "id": "2plreeZm_-_O",
        "outputId": "205d23a1-91d3-4d04-b4a1-ddd868701b06"
      },
      "source": [
        "df = pd.read_csv('/content/drive/MyDrive/Mini Project Sem 6/HDFC_data.csv')\n",
        "df = df[['Date', 'Close']]\n",
        "df.index = df['Date']\n",
        "df.index = pd.to_datetime(df.index)\n",
        "df.drop(['Date'], axis=1)"
      ],
      "execution_count": 47,
      "outputs": [
        {
          "output_type": "execute_result",
          "data": {
            "text/html": [
              "<div>\n",
              "<style scoped>\n",
              "    .dataframe tbody tr th:only-of-type {\n",
              "        vertical-align: middle;\n",
              "    }\n",
              "\n",
              "    .dataframe tbody tr th {\n",
              "        vertical-align: top;\n",
              "    }\n",
              "\n",
              "    .dataframe thead th {\n",
              "        text-align: right;\n",
              "    }\n",
              "</style>\n",
              "<table border=\"1\" class=\"dataframe\">\n",
              "  <thead>\n",
              "    <tr style=\"text-align: right;\">\n",
              "      <th></th>\n",
              "      <th>Close</th>\n",
              "    </tr>\n",
              "    <tr>\n",
              "      <th>Date</th>\n",
              "      <th></th>\n",
              "    </tr>\n",
              "  </thead>\n",
              "  <tbody>\n",
              "    <tr>\n",
              "      <th>2013-01-01</th>\n",
              "      <td>832.95</td>\n",
              "    </tr>\n",
              "    <tr>\n",
              "      <th>2013-01-02</th>\n",
              "      <td>846.60</td>\n",
              "    </tr>\n",
              "    <tr>\n",
              "      <th>2013-01-03</th>\n",
              "      <td>845.50</td>\n",
              "    </tr>\n",
              "    <tr>\n",
              "      <th>2013-01-04</th>\n",
              "      <td>837.70</td>\n",
              "    </tr>\n",
              "    <tr>\n",
              "      <th>2013-01-07</th>\n",
              "      <td>822.95</td>\n",
              "    </tr>\n",
              "    <tr>\n",
              "      <th>...</th>\n",
              "      <td>...</td>\n",
              "    </tr>\n",
              "    <tr>\n",
              "      <th>2021-03-19</th>\n",
              "      <td>2531.65</td>\n",
              "    </tr>\n",
              "    <tr>\n",
              "      <th>2021-03-22</th>\n",
              "      <td>2531.85</td>\n",
              "    </tr>\n",
              "    <tr>\n",
              "      <th>2021-03-23</th>\n",
              "      <td>2509.90</td>\n",
              "    </tr>\n",
              "    <tr>\n",
              "      <th>2021-03-24</th>\n",
              "      <td>2465.75</td>\n",
              "    </tr>\n",
              "    <tr>\n",
              "      <th>2021-03-25</th>\n",
              "      <td>2470.75</td>\n",
              "    </tr>\n",
              "  </tbody>\n",
              "</table>\n",
              "<p>2038 rows × 1 columns</p>\n",
              "</div>"
            ],
            "text/plain": [
              "              Close\n",
              "Date               \n",
              "2013-01-01   832.95\n",
              "2013-01-02   846.60\n",
              "2013-01-03   845.50\n",
              "2013-01-04   837.70\n",
              "2013-01-07   822.95\n",
              "...             ...\n",
              "2021-03-19  2531.65\n",
              "2021-03-22  2531.85\n",
              "2021-03-23  2509.90\n",
              "2021-03-24  2465.75\n",
              "2021-03-25  2470.75\n",
              "\n",
              "[2038 rows x 1 columns]"
            ]
          },
          "metadata": {
            "tags": []
          },
          "execution_count": 47
        }
      ]
    },
    {
      "cell_type": "code",
      "metadata": {
        "colab": {
          "base_uri": "https://localhost:8080/"
        },
        "id": "UCHy7-Ez__HC",
        "outputId": "33c6561c-eee7-4aa9-facf-9cc32a3bb6b2"
      },
      "source": [
        "\n",
        "from statsmodels.tsa.stattools import adfuller\n",
        "\n",
        "def ad_test(dataset):\n",
        "\tdftest = adfuller(dataset, autolag='AIC')\n",
        "\tprint(\"1. ADF \", dftest[0])\n",
        "\tprint(\"2. P value: \", dftest[1])\n",
        "\tprint(\"3. Num of Lags : \", dftest[2])\n",
        "\tprint(\"4. Num of obs used for adf regression and critical values Calculation: \", dftest[3])\n",
        "\tprint(\"5. Critical Values: \", dftest[4])\n",
        "\n",
        "\tfor key, val in dftest[4].items():\n",
        "\t\tprint(\"\\t\", key, \" : \", val)\n",
        "\n",
        "\n",
        "\n",
        "ad_test(df.Close)\n",
        "\n"
      ],
      "execution_count": 48,
      "outputs": [
        {
          "output_type": "stream",
          "text": [
            "1. ADF  -0.8307616080478948\n",
            "2. P value:  0.8099186836427368\n",
            "3. Num of Lags :  12\n",
            "4. Num of obs used for adf regression and critical values Calculation:  2025\n",
            "5. Critical Values:  {'1%': -3.433583387038847, '5%': -2.862968345989414, '10%': -2.5675303887212313}\n",
            "\t 1%  :  -3.433583387038847\n",
            "\t 5%  :  -2.862968345989414\n",
            "\t 10%  :  -2.5675303887212313\n"
          ],
          "name": "stdout"
        }
      ]
    },
    {
      "cell_type": "code",
      "metadata": {
        "colab": {
          "base_uri": "https://localhost:8080/",
          "height": 946
        },
        "id": "kQJv2ZsH__Nx",
        "outputId": "62df0c8f-0672-4f01-af56-5884b5fdbb6c"
      },
      "source": [
        "\n",
        "from pmdarima import auto_arima\n",
        "import warnings\n",
        "warnings.filterwarnings(\"ignore\")\n",
        "\n",
        "\n",
        "stepwise_fir = auto_arima(df.Close, trace=True, supress_warnings=True)\n",
        "stepwise_fir.summary()\n"
      ],
      "execution_count": 49,
      "outputs": [
        {
          "output_type": "stream",
          "text": [
            "Performing stepwise search to minimize aic\n",
            " ARIMA(2,1,2)(0,0,0)[0] intercept   : AIC=19628.590, Time=3.16 sec\n",
            " ARIMA(0,1,0)(0,0,0)[0] intercept   : AIC=19653.349, Time=0.09 sec\n",
            " ARIMA(1,1,0)(0,0,0)[0] intercept   : AIC=19655.349, Time=0.11 sec\n",
            " ARIMA(0,1,1)(0,0,0)[0] intercept   : AIC=19655.348, Time=0.49 sec\n",
            " ARIMA(0,1,0)(0,0,0)[0]             : AIC=19652.803, Time=0.07 sec\n",
            " ARIMA(1,1,2)(0,0,0)[0] intercept   : AIC=19644.186, Time=1.11 sec\n",
            " ARIMA(2,1,1)(0,0,0)[0] intercept   : AIC=19642.977, Time=1.51 sec\n",
            " ARIMA(3,1,2)(0,0,0)[0] intercept   : AIC=19621.976, Time=4.64 sec\n",
            " ARIMA(3,1,1)(0,0,0)[0] intercept   : AIC=19637.262, Time=1.35 sec\n",
            " ARIMA(4,1,2)(0,0,0)[0] intercept   : AIC=19607.397, Time=5.54 sec\n",
            " ARIMA(4,1,1)(0,0,0)[0] intercept   : AIC=19629.183, Time=3.33 sec\n",
            " ARIMA(5,1,2)(0,0,0)[0] intercept   : AIC=19603.710, Time=6.56 sec\n",
            " ARIMA(5,1,1)(0,0,0)[0] intercept   : AIC=19619.147, Time=3.49 sec\n",
            " ARIMA(5,1,3)(0,0,0)[0] intercept   : AIC=19607.966, Time=7.80 sec\n",
            " ARIMA(4,1,3)(0,0,0)[0] intercept   : AIC=19610.176, Time=6.93 sec\n",
            " ARIMA(5,1,2)(0,0,0)[0]             : AIC=19603.149, Time=3.25 sec\n",
            " ARIMA(4,1,2)(0,0,0)[0]             : AIC=19606.857, Time=2.50 sec\n",
            " ARIMA(5,1,1)(0,0,0)[0]             : AIC=19618.931, Time=1.14 sec\n",
            " ARIMA(5,1,3)(0,0,0)[0]             : AIC=19606.494, Time=3.36 sec\n",
            " ARIMA(4,1,1)(0,0,0)[0]             : AIC=19629.299, Time=0.92 sec\n",
            " ARIMA(4,1,3)(0,0,0)[0]             : AIC=19609.633, Time=3.19 sec\n",
            "\n",
            "Best model:  ARIMA(5,1,2)(0,0,0)[0]          \n",
            "Total fit time: 60.569 seconds\n"
          ],
          "name": "stdout"
        },
        {
          "output_type": "execute_result",
          "data": {
            "text/html": [
              "<table class=\"simpletable\">\n",
              "<caption>SARIMAX Results</caption>\n",
              "<tr>\n",
              "  <th>Dep. Variable:</th>           <td>y</td>        <th>  No. Observations:  </th>   <td>2038</td>   \n",
              "</tr>\n",
              "<tr>\n",
              "  <th>Model:</th>           <td>SARIMAX(5, 1, 2)</td> <th>  Log Likelihood     </th> <td>-9793.574</td>\n",
              "</tr>\n",
              "<tr>\n",
              "  <th>Date:</th>            <td>Thu, 25 Mar 2021</td> <th>  AIC                </th> <td>19603.149</td>\n",
              "</tr>\n",
              "<tr>\n",
              "  <th>Time:</th>                <td>18:30:38</td>     <th>  BIC                </th> <td>19648.103</td>\n",
              "</tr>\n",
              "<tr>\n",
              "  <th>Sample:</th>                  <td>0</td>        <th>  HQIC               </th> <td>19619.640</td>\n",
              "</tr>\n",
              "<tr>\n",
              "  <th></th>                      <td> - 2038</td>     <th>                     </th>     <td> </td>    \n",
              "</tr>\n",
              "<tr>\n",
              "  <th>Covariance Type:</th>        <td>opg</td>       <th>                     </th>     <td> </td>    \n",
              "</tr>\n",
              "</table>\n",
              "<table class=\"simpletable\">\n",
              "<tr>\n",
              "     <td></td>       <th>coef</th>     <th>std err</th>      <th>z</th>      <th>P>|z|</th>  <th>[0.025</th>    <th>0.975]</th>  \n",
              "</tr>\n",
              "<tr>\n",
              "  <th>ar.L1</th>  <td>   -1.4722</td> <td>    0.033</td> <td>  -44.771</td> <td> 0.000</td> <td>   -1.537</td> <td>   -1.408</td>\n",
              "</tr>\n",
              "<tr>\n",
              "  <th>ar.L2</th>  <td>   -0.8959</td> <td>    0.037</td> <td>  -24.193</td> <td> 0.000</td> <td>   -0.968</td> <td>   -0.823</td>\n",
              "</tr>\n",
              "<tr>\n",
              "  <th>ar.L3</th>  <td>   -0.1765</td> <td>    0.026</td> <td>   -6.917</td> <td> 0.000</td> <td>   -0.227</td> <td>   -0.127</td>\n",
              "</tr>\n",
              "<tr>\n",
              "  <th>ar.L4</th>  <td>   -0.2230</td> <td>    0.021</td> <td>  -10.527</td> <td> 0.000</td> <td>   -0.264</td> <td>   -0.181</td>\n",
              "</tr>\n",
              "<tr>\n",
              "  <th>ar.L5</th>  <td>   -0.0725</td> <td>    0.014</td> <td>   -5.183</td> <td> 0.000</td> <td>   -0.100</td> <td>   -0.045</td>\n",
              "</tr>\n",
              "<tr>\n",
              "  <th>ma.L1</th>  <td>    1.4807</td> <td>    0.030</td> <td>   48.989</td> <td> 0.000</td> <td>    1.421</td> <td>    1.540</td>\n",
              "</tr>\n",
              "<tr>\n",
              "  <th>ma.L2</th>  <td>    0.8482</td> <td>    0.027</td> <td>   31.384</td> <td> 0.000</td> <td>    0.795</td> <td>    0.901</td>\n",
              "</tr>\n",
              "<tr>\n",
              "  <th>sigma2</th> <td>  878.0904</td> <td>   13.472</td> <td>   65.177</td> <td> 0.000</td> <td>  851.685</td> <td>  904.496</td>\n",
              "</tr>\n",
              "</table>\n",
              "<table class=\"simpletable\">\n",
              "<tr>\n",
              "  <th>Ljung-Box (L1) (Q):</th>     <td>0.00</td> <th>  Jarque-Bera (JB):  </th> <td>5971.17</td>\n",
              "</tr>\n",
              "<tr>\n",
              "  <th>Prob(Q):</th>                <td>0.96</td> <th>  Prob(JB):          </th>  <td>0.00</td>  \n",
              "</tr>\n",
              "<tr>\n",
              "  <th>Heteroskedasticity (H):</th> <td>5.30</td> <th>  Skew:              </th>  <td>-0.26</td> \n",
              "</tr>\n",
              "<tr>\n",
              "  <th>Prob(H) (two-sided):</th>    <td>0.00</td> <th>  Kurtosis:          </th>  <td>11.37</td> \n",
              "</tr>\n",
              "</table><br/><br/>Warnings:<br/>[1] Covariance matrix calculated using the outer product of gradients (complex-step)."
            ],
            "text/plain": [
              "<class 'statsmodels.iolib.summary.Summary'>\n",
              "\"\"\"\n",
              "                               SARIMAX Results                                \n",
              "==============================================================================\n",
              "Dep. Variable:                      y   No. Observations:                 2038\n",
              "Model:               SARIMAX(5, 1, 2)   Log Likelihood               -9793.574\n",
              "Date:                Thu, 25 Mar 2021   AIC                          19603.149\n",
              "Time:                        18:30:38   BIC                          19648.103\n",
              "Sample:                             0   HQIC                         19619.640\n",
              "                               - 2038                                         \n",
              "Covariance Type:                  opg                                         \n",
              "==============================================================================\n",
              "                 coef    std err          z      P>|z|      [0.025      0.975]\n",
              "------------------------------------------------------------------------------\n",
              "ar.L1         -1.4722      0.033    -44.771      0.000      -1.537      -1.408\n",
              "ar.L2         -0.8959      0.037    -24.193      0.000      -0.968      -0.823\n",
              "ar.L3         -0.1765      0.026     -6.917      0.000      -0.227      -0.127\n",
              "ar.L4         -0.2230      0.021    -10.527      0.000      -0.264      -0.181\n",
              "ar.L5         -0.0725      0.014     -5.183      0.000      -0.100      -0.045\n",
              "ma.L1          1.4807      0.030     48.989      0.000       1.421       1.540\n",
              "ma.L2          0.8482      0.027     31.384      0.000       0.795       0.901\n",
              "sigma2       878.0904     13.472     65.177      0.000     851.685     904.496\n",
              "===================================================================================\n",
              "Ljung-Box (L1) (Q):                   0.00   Jarque-Bera (JB):              5971.17\n",
              "Prob(Q):                              0.96   Prob(JB):                         0.00\n",
              "Heteroskedasticity (H):               5.30   Skew:                            -0.26\n",
              "Prob(H) (two-sided):                  0.00   Kurtosis:                        11.37\n",
              "===================================================================================\n",
              "\n",
              "Warnings:\n",
              "[1] Covariance matrix calculated using the outer product of gradients (complex-step).\n",
              "\"\"\""
            ]
          },
          "metadata": {
            "tags": []
          },
          "execution_count": 49
        }
      ]
    },
    {
      "cell_type": "code",
      "metadata": {
        "colab": {
          "base_uri": "https://localhost:8080/"
        },
        "id": "0Gh5qJr1__es",
        "outputId": "271cd994-92aa-4448-c57e-38d58b5d3291"
      },
      "source": [
        "\n",
        "\n",
        "\n",
        "from statsmodels.tsa.arima_model import ARIMA\n",
        "\n",
        "\n",
        "print(df.shape)\n",
        "train=df.iloc[:-30]\n",
        "test = df.iloc[-30:]\n",
        "print(train.shape, test.shape)\n",
        "model = ARIMA(train.Close, order=(5,1,3))\n",
        "model = model.fit()\n",
        "print(model.summary())\n"
      ],
      "execution_count": 31,
      "outputs": [
        {
          "output_type": "stream",
          "text": [
            "(2038, 2)\n",
            "(2008, 2) (30, 2)\n",
            "                             ARIMA Model Results                              \n",
            "==============================================================================\n",
            "Dep. Variable:                D.Close   No. Observations:                 2007\n",
            "Model:                 ARIMA(5, 1, 3)   Log Likelihood               -9211.727\n",
            "Method:                       css-mle   S.D. of innovations             23.827\n",
            "Date:                Thu, 25 Mar 2021   AIC                          18443.454\n",
            "Time:                        18:26:07   BIC                          18499.498\n",
            "Sample:                             1   HQIC                         18464.029\n",
            "                                                                              \n",
            "=================================================================================\n",
            "                    coef    std err          z      P>|z|      [0.025      0.975]\n",
            "---------------------------------------------------------------------------------\n",
            "const             0.3855      0.508      0.759      0.448      -0.610       1.381\n",
            "ar.L1.D.Close    -0.3619      0.110     -3.303      0.001      -0.577      -0.147\n",
            "ar.L2.D.Close    -0.6428      0.059    -10.887      0.000      -0.759      -0.527\n",
            "ar.L3.D.Close    -0.7301      0.107     -6.816      0.000      -0.940      -0.520\n",
            "ar.L4.D.Close    -0.0027      0.025     -0.107      0.915      -0.052       0.047\n",
            "ar.L5.D.Close    -0.0841      0.023     -3.651      0.000      -0.129      -0.039\n",
            "ma.L1.D.Close     0.3706      0.108      3.422      0.001       0.158       0.583\n",
            "ma.L2.D.Close     0.6095      0.054     11.199      0.000       0.503       0.716\n",
            "ma.L3.D.Close     0.7143      0.106      6.758      0.000       0.507       0.921\n",
            "                                    Roots                                    \n",
            "=============================================================================\n",
            "                  Real          Imaginary           Modulus         Frequency\n",
            "-----------------------------------------------------------------------------\n",
            "AR.1            0.2154           -1.0445j            1.0665           -0.2176\n",
            "AR.2            0.2154           +1.0445j            1.0665            0.2176\n",
            "AR.3           -1.2092           -0.0000j            1.2092           -0.5000\n",
            "AR.4            0.3731           -2.9169j            2.9407           -0.2298\n",
            "AR.5            0.3731           +2.9169j            2.9407            0.2298\n",
            "MA.1            0.2190           -1.0180j            1.0413           -0.2163\n",
            "MA.2            0.2190           +1.0180j            1.0413            0.2163\n",
            "MA.3           -1.2912           -0.0000j            1.2912           -0.5000\n",
            "-----------------------------------------------------------------------------\n"
          ],
          "name": "stdout"
        }
      ]
    },
    {
      "cell_type": "code",
      "metadata": {
        "colab": {
          "base_uri": "https://localhost:8080/",
          "height": 846
        },
        "id": "AvrsY2-___mW",
        "outputId": "2ad67b95-c42b-4fbd-d5e1-1e20b9cbe7c6"
      },
      "source": [
        "\n",
        "start = len(train)\n",
        "end = len(train)+ len(test) -1\n",
        "pred = model.predict(start=start, end=end, typ=\"levels\")\n",
        "# print(pred)\n",
        "# pred.index = df.index[start:end+1]\n",
        "pred.plot(legend=True)\n",
        "print(test)\n",
        "# test['Close'].plot()\n",
        "# plt.show()\n"
      ],
      "execution_count": 32,
      "outputs": [
        {
          "output_type": "stream",
          "text": [
            "                  Date   Close\n",
            "Date                          \n",
            "2021-02-11  2021-02-11  935.20\n",
            "2021-02-12  2021-02-12  929.95\n",
            "2021-02-15  2021-02-15  932.20\n",
            "2021-02-16  2021-02-16  935.85\n",
            "2021-02-17  2021-02-17  922.15\n",
            "2021-02-18  2021-02-18  911.70\n",
            "2021-02-19  2021-02-19  888.55\n",
            "2021-02-22  2021-02-22  856.40\n",
            "2021-02-23  2021-02-23  853.60\n",
            "2021-02-24  2021-02-24  862.00\n",
            "2021-02-25  2021-02-25  863.25\n",
            "2021-02-26  2021-02-26  855.20\n",
            "2021-03-01  2021-03-01  873.65\n",
            "2021-03-02  2021-03-02  885.90\n",
            "2021-03-03  2021-03-03  880.50\n",
            "2021-03-04  2021-03-04  874.90\n",
            "2021-03-05  2021-03-05  862.80\n",
            "2021-03-08  2021-03-08  862.70\n",
            "2021-03-09  2021-03-09  852.95\n",
            "2021-03-10  2021-03-10  857.30\n",
            "2021-03-12  2021-03-12  848.25\n",
            "2021-03-15  2021-03-15  835.30\n",
            "2021-03-16  2021-03-16  840.95\n",
            "2021-03-17  2021-03-17  839.30\n",
            "2021-03-18  2021-03-18  807.90\n",
            "2021-03-19  2021-03-19  822.25\n",
            "2021-03-22  2021-03-22  835.25\n",
            "2021-03-23  2021-03-23  846.15\n",
            "2021-03-24  2021-03-24  855.85\n",
            "2021-03-25  2021-03-25  840.15\n"
          ],
          "name": "stdout"
        },
        {
          "output_type": "display_data",
          "data": {
            "image/png": "[encoded data removed]",
            "text/plain": [
              "<Figure size 432x288 with 1 Axes>"
            ]
          },
          "metadata": {
            "tags": []
          }
        }
      ]
    },
    {
      "cell_type": "code",
      "metadata": {
        "colab": {
          "base_uri": "https://localhost:8080/"
        },
        "id": "1PL512MWAAvS",
        "outputId": "b4c0e985-8ea6-41d2-8e25-6782ab258d4f"
      },
      "source": [
        "\n",
        "print(test.Close.mean())\n",
        "from sklearn.metrics import mean_squared_error\n",
        "from math import sqrt\n",
        "rmse=sqrt(mean_squared_error(pred, test.Close))\n",
        "print(\"The rmse is \", rmse)\n"
      ],
      "execution_count": 33,
      "outputs": [
        {
          "output_type": "stream",
          "text": [
            "868.9366666666667\n",
            "The rmse is  111.55593215770924\n"
          ],
          "name": "stdout"
        }
      ]
    },
    {
      "cell_type": "code",
      "metadata": {
        "colab": {
          "base_uri": "https://localhost:8080/"
        },
        "id": "dMSzBWPUCfH4",
        "outputId": "70622b5c-a93a-4b44-f88e-c82494914781"
      },
      "source": [
        "\n",
        "print(type(df.Close))\n",
        "model2 = ARIMA(df.Close, order=(5,1,3))\n",
        "model2 = model2.fit()\n",
        "print(df.tail())\n",
        "\n"
      ],
      "execution_count": 35,
      "outputs": [
        {
          "output_type": "stream",
          "text": [
            "<class 'pandas.core.series.Series'>\n",
            "                  Date   Close\n",
            "Date                          \n",
            "2021-03-19  2021-03-19  822.25\n",
            "2021-03-22  2021-03-22  835.25\n",
            "2021-03-23  2021-03-23  846.15\n",
            "2021-03-24  2021-03-24  855.85\n",
            "2021-03-25  2021-03-25  840.15\n"
          ],
          "name": "stdout"
        }
      ]
    },
    {
      "cell_type": "code",
      "metadata": {
        "colab": {
          "base_uri": "https://localhost:8080/",
          "height": 354
        },
        "id": "Cho9wfH4AA4S",
        "outputId": "ce93291a-b8e7-470c-b04c-e63c3059c98a"
      },
      "source": [
        "\n",
        "\n",
        "import datetime as dt\n",
        "# Future dates\n",
        "index_future_dates = pd.date_range(start = dt.datetime.now() , end=dt.datetime.now() + dt.timedelta(days=10))\n",
        "\n",
        "# print(index_future_dates)\n",
        "pred = model2.predict(start=len(df), end=len(df)+10, typ='levels').rename('ARIMA PREDICTIONS')\n",
        "\n",
        "pred.index = index_future_dates\n",
        "pred.plot(figsize=(12,5), legend =True)\n"
      ],
      "execution_count": 52,
      "outputs": [
        {
          "output_type": "execute_result",
          "data": {
            "text/plain": [
              "<matplotlib.axes._subplots.AxesSubplot at 0x7f10c308f750>"
            ]
          },
          "metadata": {
            "tags": []
          },
          "execution_count": 52
        },
        {
          "output_type": "display_data",
          "data": {
            "image/png": "[encoded data removed]",
            "text/plain": [
              "<Figure size 864x360 with 1 Axes>"
            ]
          },
          "metadata": {
            "tags": []
          }
        }
      ]
    },
    {
      "cell_type": "code",
      "metadata": {
        "id": "V9CAk58tCulz"
      },
      "source": [
        "model2.save('HDFC_model.pkl')"
      ],
      "execution_count": 23,
      "outputs": []
    }
  ]
}